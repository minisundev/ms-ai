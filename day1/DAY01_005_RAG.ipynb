{
 "cells": [
  {
   "cell_type": "markdown",
   "id": "f191d1cf",
   "metadata": {},
   "source": [
    "#  RAG 체인 구성\n",
    "\n",
    "---"
   ]
  },
  {
   "cell_type": "markdown",
   "id": "2641ec21",
   "metadata": {},
   "source": [
    "# 환경 설정 및 준비"
   ]
  },
  {
   "cell_type": "markdown",
   "id": "e4be5eb8",
   "metadata": {},
   "source": [
    "`(1) Env 환경변수`"
   ]
  },
  {
   "cell_type": "code",
   "execution_count": null,
   "id": "829d8712",
   "metadata": {},
   "outputs": [],
   "source": [
    "from dotenv import load_dotenv\n",
    "load_dotenv()"
   ]
  },
  {
   "cell_type": "markdown",
   "id": "b5989430",
   "metadata": {},
   "source": [
    "`(2) 기본 라이브러리`"
   ]
  },
  {
   "cell_type": "code",
   "execution_count": null,
   "id": "fa02fc31",
   "metadata": {},
   "outputs": [],
   "source": [
    "import os\n",
    "from glob import glob\n",
    "\n",
    "from pprint import pprint\n",
    "import json"
   ]
  },
  {
   "cell_type": "markdown",
   "id": "e69732dd",
   "metadata": {},
   "source": [
    "# 다양한 문서 형식 처리하기\n",
    "\n",
    "- 역할: Document Loader는 다양한 소스에서 문서를 로드\n",
    "- 구현: \n",
    "    - Document Loader는 BaseLoader 인터페이스를 통해서 구현\n",
    "    - `.load()` 또는 `.lazy_load()` 메서드를 통해 동일한 방식으로 호출 \n",
    "    - 대용량 데이터셋의 경우 메모리 효율을 위해 `.lazy_load()`를 사용하는 것을 권장 \n",
    "- 종류:\n",
    "    - PDF 파일 로더\n",
    "    - 웹 페이지 로더 \n",
    "    - CSV 데이터 로더\n",
    "    - 디렉토리 로더\n",
    "    - HTML 데이터 로더\n",
    "    - JSON 데이터 로더\n",
    "    - Markdown 데이터 로더\n",
    "    - Microsoft Office 데이터 로더"
   ]
  },
  {
   "cell_type": "markdown",
   "id": "87ca1af2",
   "metadata": {},
   "source": [
    "### 1. **웹 문서 로더**\n",
    "\n",
    "- uv add bs4 langchain_community"
   ]
  },
  {
   "cell_type": "code",
   "execution_count": null,
   "id": "1e50f24b",
   "metadata": {},
   "outputs": [],
   "source": [
    "from langchain_community.document_loaders import WebBaseLoader\n",
    "\n",
    "# 기본적인 텍스트 추출\n",
    "web_loader = WebBaseLoader(\n",
    "    web_paths=[\n",
    "        \"https://python.langchain.com/\", \n",
    "        \"https://js.langchain.com/\",\n",
    "        ],\n",
    "    )\n",
    "\n",
    "# 동기 로딩\n",
    "web_docs = web_loader.load()\n",
    "\n",
    "len(web_docs)"
   ]
  },
  {
   "cell_type": "code",
   "execution_count": null,
   "id": "26f173ff",
   "metadata": {},
   "outputs": [],
   "source": [
    "web_docs[0].metadata"
   ]
  },
  {
   "cell_type": "code",
   "execution_count": null,
   "id": "13cdeb62",
   "metadata": {},
   "outputs": [],
   "source": [
    "print(web_docs[0].page_content)"
   ]
  },
  {
   "cell_type": "markdown",
   "id": "645da45b",
   "metadata": {},
   "source": [
    "### 2. **CSV 파일 로더**"
   ]
  },
  {
   "cell_type": "code",
   "execution_count": 14,
   "id": "75179f1b",
   "metadata": {},
   "outputs": [
    {
     "name": "stdout",
     "output_type": "stream",
     "text": [
      "문서의 수: 10\n",
      "--------------------------------------------------\n",
      "처음 문서의 메타데이터: \n",
      " {'source': '../data/kbo_teams_2023.csv', 'row': 0}\n",
      "--------------------------------------------------\n",
      "처음 문서의 내용: \n",
      " Team: KIA 타이거즈\n",
      "City: 광주\n",
      "Founded: 1982\n",
      "Home Stadium: 광주-기아 챔피언스 필드\n",
      "Championships: 11\n",
      "Introduction: KBO 리그의 전통 강호로, 역대 최다 우승 기록을 보유하고 있다. '타이거즈 스피릿'으로 유명하며, 양현종, 안치홍 등 스타 선수들을 배출했다. 광주를 연고로 하는 유일한 프로야구팀으로 지역 사랑이 강하다.\n"
     ]
    }
   ],
   "source": [
    "from langchain_community.document_loaders.csv_loader import CSVLoader\n",
    "\n",
    "# 기본 파일 로드\n",
    "csv_loader = CSVLoader(\"../data/kbo_teams_2023.csv\")\n",
    "csv_docs = csv_loader.load()\n",
    "\n",
    "print(\"문서의 수:\", len(csv_docs))\n",
    "print(\"-\" * 50)\n",
    "print(\"처음 문서의 메타데이터: \\n\", csv_docs[0].metadata)\n",
    "print(\"-\" * 50)\n",
    "print(\"처음 문서의 내용: \\n\", csv_docs[0].page_content)"
   ]
  },
  {
   "cell_type": "code",
   "execution_count": 15,
   "id": "2a5e089f",
   "metadata": {},
   "outputs": [
    {
     "name": "stdout",
     "output_type": "stream",
     "text": [
      "문서의 수: 10\n",
      "--------------------------------------------------\n",
      "처음 문서의 메타데이터: \n",
      " {'source': 'KIA 타이거즈', 'row': 0}\n",
      "--------------------------------------------------\n",
      "처음 문서의 내용: \n",
      " Team: KIA 타이거즈\n",
      "City: 광주\n",
      "Founded: 1982\n",
      "Home Stadium: 광주-기아 챔피언스 필드\n",
      "Championships: 11\n",
      "Introduction: KBO 리그의 전통 강호로, 역대 최다 우승 기록을 보유하고 있다. '타이거즈 스피릿'으로 유명하며, 양현종, 안치홍 등 스타 선수들을 배출했다. 광주를 연고로 하는 유일한 프로야구팀으로 지역 사랑이 강하다.\n"
     ]
    }
   ],
   "source": [
    "## 소스 컬럼 지정\n",
    "\n",
    "csv_loader = CSVLoader(\n",
    "    file_path=\"../data/kbo_teams_2023.csv\",\n",
    "    source_column=\"Team\"  # 이 컬럼의 값이 메타데이터의 source로 사용됨\n",
    ")\n",
    "\n",
    "csv_docs = csv_loader.load()\n",
    "\n",
    "print(\"문서의 수:\", len(csv_docs))\n",
    "print(\"-\" * 50)\n",
    "print(\"처음 문서의 메타데이터: \\n\", csv_docs[0].metadata)\n",
    "print(\"-\" * 50)\n",
    "print(\"처음 문서의 내용: \\n\", csv_docs[0].page_content)"
   ]
  },
  {
   "cell_type": "markdown",
   "id": "807d28ef",
   "metadata": {},
   "source": [
    "### 3. **PDF 파일 로더**\n",
    "\n",
    "- uv add langchain_community pypdf"
   ]
  },
  {
   "cell_type": "code",
   "execution_count": null,
   "id": "90aa754e",
   "metadata": {},
   "outputs": [
    {
     "name": "stdout",
     "output_type": "stream",
     "text": [
      "PDF 문서 개수: 20\n"
     ]
    }
   ],
   "source": [
    "from langchain_community.document_loaders import PyPDFLoader\n",
    "\n",
    "# PDF 로더 초기화 (근로기준법 문서)\n",
    "pdf_loader = PyPDFLoader('.../data/labor_law.pdf')\n",
    "\n",
    "# 동기 로딩\n",
    "pdf_docs = pdf_loader.load()\n",
    "print(f'PDF 문서 개수: {len(pdf_docs)}')"
   ]
  },
  {
   "cell_type": "markdown",
   "id": "ebb33946",
   "metadata": {},
   "source": [
    "# 텍스트 분할(Text Splitting) \n",
    "\n",
    "- 대규모 텍스트 문서를 처리할 때 매우 중요한 전처리 단계\n",
    "- 고려사항:\n",
    "    1. 문서의 구조와 형식\n",
    "    2. 원하는 청크 크기\n",
    "    3. 문맥 보존의 중요도\n",
    "    4. 처리 속도 "
   ]
  },
  {
   "cell_type": "code",
   "execution_count": 4,
   "id": "a007e618",
   "metadata": {},
   "outputs": [
    {
     "name": "stdout",
     "output_type": "stream",
     "text": [
      "첫 번째 문서: page_content='법제처                                                            1                                                       국가법령정보센터\n",
      "근로기준법\n",
      " \n",
      "근로기준법\n",
      "[시행 2021. 11. 19.] [법률 제18176호, 2021. 5. 18., 일부개정]\n",
      "고용노동부 (근로기준정책과 - 해고, 취업규칙, 기타) 044-202-7534\n",
      "고용노동부 (근로기준정책과 - 소년) 044-202-7535\n",
      "고용노동부 (근로기준정책과 - 임금) 044-202-7548\n",
      "고용노동부 (여성고용정책과 - 여성) 044-202-7475\n",
      "고용노동부 (임금근로시간정책과 - 근로시간, 휴게) 044-202-7545\n",
      "고용노동부 (임금근로시간정책과 - 휴일, 연차휴가) 044-202-7973\n",
      "고용노동부 (임금근로시간정책과 - 제63조 적용제외, 특례업종) 044-202-7530\n",
      "고용노동부 (임금근로시간정책과 - 유연근로시간제) 044-202-7549\n",
      "       제1장 총칙\n",
      " \n",
      "제1조(목적) 이 법은 헌법에 따라 근로조건의 기준을 정함으로써 근로자의 기본적 생활을 보장, 향상시키며 균형 있는\n",
      "국민경제의 발전을 꾀하는 것을 목적으로 한다.\n",
      " \n",
      "제2조(정의) ① 이 법에서 사용하는 용어의 뜻은 다음과 같다. <개정 2018. 3. 20., 2019. 1. 15., 2020. 5. 26.>\n",
      "1. “근로자”란 직업의 종류와 관계없이 임금을 목적으로 사업이나 사업장에 근로를 제공하는 사람을 말한다.\n",
      "2. “사용자”란 사업주 또는 사업 경영 담당자, 그 밖에 근로자에 관한 사항에 대하여 사업주를 위하여 행위하는 자를\n",
      "말한다.\n",
      "3. “근로”란 정신노동과 육체노동을 말한다.\n",
      "4. “근로계약”이란 근로자가 사용자에게 근로를 제공하고 사용자는 이에 대하여 임금을 지급하는 것을 목적으로 체\n",
      "결된 계약을 말한다.\n",
      "5. “임금”이란 사용자가 근로의 대가로 근로자에게 임금, 봉급, 그 밖에 어떠한 명칭으로든지 지급하는 모든 금품을\n",
      "말한다.\n",
      "6. “평균임금”이란 이를 산정하여야 할 사유가 발생한 날 이전 3개월 동안에 그 근로자에게 지급된 임금의 총액을\n",
      "그 기간의 총일수로 나눈 금액을 말한다. 근로자가 취업한 후 3개월 미만인 경우도 이에 준한다.\n",
      "7. “1주”란 휴일을 포함한 7일을 말한다.\n",
      "8. “소정(所定)근로시간”이란 제50조, 제69조 본문 또는 「산업안전보건법」 제139조제1항에 따른 근로시간의 범위에\n",
      "서 근로자와 사용자 사이에 정한 근로시간을 말한다.\n",
      "9. “단시간근로자”란 1주 동안의 소정근로시간이 그 사업장에서 같은 종류의 업무에 종사하는 통상 근로자의 1주\n",
      "동안의 소정근로시간에 비하여 짧은 근로자를 말한다.\n",
      "② 제1항제6호에 따라 산출된 금액이 그 근로자의 통상임금보다 적으면 그 통상임금액을 평균임금으로 한다.\n",
      " \n",
      "제3조(근로조건의 기준) 이 법에서 정하는 근로조건은 최저기준이므로 근로 관계 당사자는 이 기준을 이유로 근로조건\n",
      "을 낮출 수 없다.\n",
      " \n",
      "제4조(근로조건의 결정) 근로조건은 근로자와 사용자가 동등한 지위에서 자유의사에 따라 결정하여야 한다.\n",
      " \n",
      "제5조(근로조건의 준수) 근로자와 사용자는 각자가 단체협약, 취업규칙과 근로계약을 지키고 성실하게 이행할 의무가\n",
      "있다.\n",
      " \n",
      "제6조(균등한 처우) 사용자는 근로자에 대하여 남녀의 성(性)을 이유로 차별적 대우를 하지 못하고, 국적ㆍ신앙 또는 사\n",
      "회적 신분을 이유로 근로조건에 대한 차별적 처우를 하지 못한다.\n",
      " \n",
      "제7조(강제 근로의 금지) 사용자는 폭행, 협박, 감금, 그 밖에 정신상 또는 신체상의 자유를 부당하게 구속하는 수단으로\n",
      "써 근로자의 자유의사에 어긋나는 근로를 강요하지 못한다.' metadata={'producer': 'iText 2.1.7 by 1T3XT', 'creator': 'PyPDF', 'creationdate': '2024-10-15T14:45:34+09:00', 'moddate': '2024-10-15T14:45:34+09:00', 'source': '../data/labor_law.pdf', 'total_pages': 20, 'page': 0, 'page_label': '1'}\n"
     ]
    }
   ],
   "source": [
    "print(f'첫 번째 문서: {pdf_docs[0]}')"
   ]
  },
  {
   "cell_type": "code",
   "execution_count": 5,
   "id": "742f6597",
   "metadata": {},
   "outputs": [
    {
     "name": "stdout",
     "output_type": "stream",
     "text": [
      "첫 번째 문서의 텍스트 길이: 1811\n"
     ]
    }
   ],
   "source": [
    "long_text = pdf_docs[0].page_content\n",
    "print(f'첫 번째 문서의 텍스트 길이: {len(long_text)}')"
   ]
  },
  {
   "cell_type": "markdown",
   "id": "95a5ec79",
   "metadata": {},
   "source": [
    "### 1. **CharacterTextSplitter**\n",
    "- 가장 기본적인 분할 방식\n",
    "- 문자 수를 기준으로 텍스트를 분할\n",
    "- 단순하지만 문맥을 고려하지 않는다는 단점이 있음\n",
    "\n",
    "- 설치: pip install langchain_text_splitters 또는 uv add langchain_text_splitters"
   ]
  },
  {
   "cell_type": "code",
   "execution_count": 6,
   "id": "8821e97e",
   "metadata": {},
   "outputs": [
    {
     "name": "stdout",
     "output_type": "stream",
     "text": [
      "분할된 텍스트 개수: 1\n",
      "첫 번째 분할된 텍스트: 법제처                                                            1                                                       국가법령정보센터\n",
      "근로기준법\n",
      " \n",
      "근로기준법\n",
      "[시행 2021. 11. 19.] [법률 제18176호, 2021. 5. 18., 일부개정]\n",
      "고용노동부 (근로기준정책과 - 해고, 취업규칙, 기타) 044-202-7534\n",
      "고용노동부 (근로기준정책과 - 소년) 044-202-7535\n",
      "고용노동부 (근로기준정책과 - 임금) 044-202-7548\n",
      "고용노동부 (여성고용정책과 - 여성) 044-202-7475\n",
      "고용노동부 (임금근로시간정책과 - 근로시간, 휴게) 044-202-7545\n",
      "고용노동부 (임금근로시간정책과 - 휴일, 연차휴가) 044-202-7973\n",
      "고용노동부 (임금근로시간정책과 - 제63조 적용제외, 특례업종) 044-202-7530\n",
      "고용노동부 (임금근로시간정책과 - 유연근로시간제) 044-202-7549\n",
      "       제1장 총칙\n",
      " \n",
      "제1조(목적) 이 법은 헌법에 따라 근로조건의 기준을 정함으로써 근로자의 기본적 생활을 보장, 향상시키며 균형 있는\n",
      "국민경제의 발전을 꾀하는 것을 목적으로 한다.\n",
      " \n",
      "제2조(정의) ① 이 법에서 사용하는 용어의 뜻은 다음과 같다. <개정 2018. 3. 20., 2019. 1. 15., 2020. 5. 26.>\n",
      "1. “근로자”란 직업의 종류와 관계없이 임금을 목적으로 사업이나 사업장에 근로를 제공하는 사람을 말한다.\n",
      "2. “사용자”란 사업주 또는 사업 경영 담당자, 그 밖에 근로자에 관한 사항에 대하여 사업주를 위하여 행위하는 자를\n",
      "말한다.\n",
      "3. “근로”란 정신노동과 육체노동을 말한다.\n",
      "4. “근로계약”이란 근로자가 사용자에게 근로를 제공하고 사용자는 이에 대하여 임금을 지급하는 것을 목적으로 체\n",
      "결된 계약을 말한다.\n",
      "5. “임금”이란 사용자가 근로의 대가로 근로자에게 임금, 봉급, 그 밖에 어떠한 명칭으로든지 지급하는 모든 금품을\n",
      "말한다.\n",
      "6. “평균임금”이란 이를 산정하여야 할 사유가 발생한 날 이전 3개월 동안에 그 근로자에게 지급된 임금의 총액을\n",
      "그 기간의 총일수로 나눈 금액을 말한다. 근로자가 취업한 후 3개월 미만인 경우도 이에 준한다.\n",
      "7. “1주”란 휴일을 포함한 7일을 말한다.\n",
      "8. “소정(所定)근로시간”이란 제50조, 제69조 본문 또는 「산업안전보건법」 제139조제1항에 따른 근로시간의 범위에\n",
      "서 근로자와 사용자 사이에 정한 근로시간을 말한다.\n",
      "9. “단시간근로자”란 1주 동안의 소정근로시간이 그 사업장에서 같은 종류의 업무에 종사하는 통상 근로자의 1주\n",
      "동안의 소정근로시간에 비하여 짧은 근로자를 말한다.\n",
      "② 제1항제6호에 따라 산출된 금액이 그 근로자의 통상임금보다 적으면 그 통상임금액을 평균임금으로 한다.\n",
      " \n",
      "제3조(근로조건의 기준) 이 법에서 정하는 근로조건은 최저기준이므로 근로 관계 당사자는 이 기준을 이유로 근로조건\n",
      "을 낮출 수 없다.\n",
      " \n",
      "제4조(근로조건의 결정) 근로조건은 근로자와 사용자가 동등한 지위에서 자유의사에 따라 결정하여야 한다.\n",
      " \n",
      "제5조(근로조건의 준수) 근로자와 사용자는 각자가 단체협약, 취업규칙과 근로계약을 지키고 성실하게 이행할 의무가\n",
      "있다.\n",
      " \n",
      "제6조(균등한 처우) 사용자는 근로자에 대하여 남녀의 성(性)을 이유로 차별적 대우를 하지 못하고, 국적ㆍ신앙 또는 사\n",
      "회적 신분을 이유로 근로조건에 대한 차별적 처우를 하지 못한다.\n",
      " \n",
      "제7조(강제 근로의 금지) 사용자는 폭행, 협박, 감금, 그 밖에 정신상 또는 신체상의 자유를 부당하게 구속하는 수단으로\n",
      "써 근로자의 자유의사에 어긋나는 근로를 강요하지 못한다.\n"
     ]
    }
   ],
   "source": [
    "from langchain_text_splitters import CharacterTextSplitter \n",
    "\n",
    "# 텍스트 분할기 초기화 (기본 설정값 적용 )\n",
    "text_splitter = CharacterTextSplitter(\n",
    "\n",
    "    # CharacterTextSplitter의 기본 설정값\n",
    "    separator = \"\\n\\n\",         # 청크 구분자: 두 개의 개행문자\n",
    "    is_separator_regex = False,  # 구분자가 정규식인지 여부\n",
    "\n",
    "    # TextSplitter의 기본 설정값\n",
    "    chunk_size = 1000,          # 청크 길이\n",
    "    chunk_overlap = 200,        # 청크 중첩\n",
    "    length_function = len,      # 길이 함수 (문자열 길이)\n",
    "    keep_separator = False,     # 구분자 유지 여부\n",
    "    add_start_index = False,   # 시작 인덱스 추가 여부\n",
    "    strip_whitespace = True,   # 공백 제거 여부\n",
    ")\n",
    "\n",
    "# 텍스트 분할 - split_text() 메서드 사용\n",
    "texts = text_splitter.split_text(long_text)\n",
    "\n",
    "# 분할된 텍스트 개수 출력\n",
    "print(f'분할된 텍스트 개수: {len(texts)}')\n",
    "\n",
    "# 첫 번째 분할된 텍스트 출력\n",
    "print(f'첫 번째 분할된 텍스트: {texts[0]}')"
   ]
  },
  {
   "cell_type": "code",
   "execution_count": 8,
   "id": "5febd9bf",
   "metadata": {},
   "outputs": [
    {
     "name": "stdout",
     "output_type": "stream",
     "text": [
      "분할된 텍스트 개수: 3\n",
      "청크 1의 텍스트 길이: 936\n",
      "청크 2의 텍스트 길이: 944\n",
      "청크 3의 텍스트 길이: 273\n",
      "첫 번째 청크의 텍스트: 법제처                                                            1                                                       국가법령정보센터\n",
      "근로기준법\n",
      " \n",
      "근로기준법\n",
      "[시행 2021. 11. 19.] [법률 제18176호, 2021. 5. 18., 일부개정]\n",
      "고용노동부 (근로기준정책과 - 해고, 취업규칙, 기타) 044-202-7534\n",
      "고용노동부 (근로기준정책과 - 소년) 044-202-7535\n",
      "고용노동부 (근로기준정책과 - 임금) 044-202-7548\n",
      "고용노동부 (여성고용정책과 - 여성) 044-202-7475\n",
      "고용노동부 (임금근로시간정책과 - 근로시간, 휴게) 044-202-7545\n",
      "고용노동부 (임금근로시간정책과 - 휴일, 연차휴가) 044-202-7973\n",
      "고용노동부 (임금근로시간정책과 - 제63조 적용제외, 특례업종) 044-202-7530\n",
      "고용노동부 (임금근로시간정책과 - 유연근로시간제) 044-202-7549\n",
      "       제1장 총칙\n",
      " \n",
      "제1조(목적) 이 법은 헌법에 따라 근로조건의 기준을 정함으로써 근로자의 기본적 생활을 보장, 향상시키며 균형 있는\n",
      "국민경제의 발전을 꾀하는 것을 목적으로 한다.\n",
      " \n",
      "제2조(정의) ① 이 법에서 사용하는 용어의 뜻은 다음과 같다. <개정 2018. 3. 20., 2019. 1. 15., 2020. 5. 26.>\n",
      "1. “근로자”란 직업의 종류와 관계없이 임금을 목적으로 사업이나 사업장에 근로를 제공하는 사람을 말한다.\n",
      "2. “사용자”란 사업주 또는 사업 경영 담당자, 그 밖에 근로자에 관한 사항에 대하여 사업주를 위하여 행위하는 자를\n",
      "말한다.\n",
      "3. “근로”란 정신노동과 육체노동을 말한다.\n",
      "4. “근로계약”이란 근로자가 사용자에게 근로를 제공하고 사용자는 이에 대하여 임금을 지급하는 것을 목적으로 체\n",
      "결된 계약을 말한다.\n"
     ]
    }
   ],
   "source": [
    "from langchain_text_splitters import CharacterTextSplitter\n",
    "\n",
    "# 문장 구분자를 개행문자로 설정\n",
    "text_splitter = CharacterTextSplitter(\n",
    "    separator = \"\\n\",        # 청크 구분자: 개행문자\n",
    "    chunk_size = 1000,       # 청크 길이\n",
    "    chunk_overlap = 200      # 청크 중첩\n",
    ")\n",
    "\n",
    "# split_documents() 메서드 사용 : Document 객체를 여러 개의 작은 청크 문서로 분할\n",
    "chunks = text_splitter.split_documents([pdf_docs[0]])   # 첫 번째 문서만 분할\n",
    "\n",
    "# 분할된 텍스트 개수 출력\n",
    "print(f'분할된 텍스트 개수: {len(chunks)}')\n",
    "\n",
    "# 각 청크의 텍스트 길이 출력\n",
    "for i, chunk in enumerate(chunks):\n",
    "    print(f'청크 {i+1}의 텍스트 길이: {len(chunk.page_content)}')\n",
    "\n",
    "# 첫 번째 청크의 텍스트 출력\n",
    "print(f'첫 번째 청크의 텍스트: {chunks[0].page_content}')"
   ]
  },
  {
   "cell_type": "markdown",
   "id": "ba7466eb",
   "metadata": {},
   "source": [
    "### 2. **RecursiveCharacterTextSplitter**\n",
    "\n",
    "- 재귀적으로 텍스트를 분할\n",
    "- 구분자를 순차적으로 적용하여 큰 청크에서 시작하여 점진적으로 더 작은 단위로 분할\n",
    "- 문맥을 더 잘 보존할 수 있음  \n"
   ]
  },
  {
   "cell_type": "code",
   "execution_count": 9,
   "id": "2f67f7c0",
   "metadata": {},
   "outputs": [
    {
     "name": "stdout",
     "output_type": "stream",
     "text": [
      "생성된 텍스트 청크 수: 56\n",
      "각 청크의 길이: [936, 944, 273, 941, 942, 941, 963, 637, 971, 991, 420, 946, 985, 563, 953, 980, 341, 961, 997, 661, 996, 957, 336, 951, 987, 367, 966, 959, 697, 981, 967, 950, 959, 842, 990, 975, 440, 966, 970, 448, 947, 967, 413, 939, 997, 393, 952, 958, 255, 987, 687, 997, 975, 377, 978, 888]\n",
      "\n",
      "법제처                                                            1                                                       국가법령정보센터\n",
      "근로기준법\n",
      " \n",
      "근로기준법\n",
      "[시행 2021. 11. 19.] [법률 제18176호, 2021. 5. 18., 일부개정]\n",
      "고용노동부 \n",
      "----------------------------------------------------------------------------------------------------\n",
      " 사업이나 사업장에 근로를 제공하는 사람을 말한다.\n",
      "2. “사용자”란 사업주 또는 사업 경영 담당자, 그 밖에 근로자에 관한 사항에 대하여 사업주를 위하여 행위하는 자를\n",
      "말한다.\n",
      "3. “근로”란 정신노동과 육체노동을 말한다.\n",
      "4. “근로계약”이란 근로자가 사용자에게 근로를 제공하고 사용자는 이에 대하여 임금을 지급하는 것을 목적으로 체\n",
      "결된 계약을 말한다.\n",
      "====================================================================================================\n",
      "\n",
      "2. “사용자”란 사업주 또는 사업 경영 담당자, 그 밖에 근로자에 관한 사항에 대하여 사업주를 위하여 행위하는 자를\n",
      "말한다.\n",
      "3. “근로”란 정신노동과 육체노동을 말한다.\n",
      "4. “근로계약”이란 근로자가 사용자에게 근로를 제공하고 사용자는 이에 대하여 임금을 지급하는 것을 목적으로 체\n",
      "결된 계약을 말한다.\n",
      "5. “임금”이란 사용자가 근로의 대가로 근로자에게\n",
      "----------------------------------------------------------------------------------------------------\n",
      "등한 지위에서 자유의사에 따라 결정하여야 한다.\n",
      " \n",
      "제5조(근로조건의 준수) 근로자와 사용자는 각자가 단체협약, 취업규칙과 근로계약을 지키고 성실하게 이행할 의무가\n",
      "있다.\n",
      " \n",
      "제6조(균등한 처우) 사용자는 근로자에 대하여 남녀의 성(性)을 이유로 차별적 대우를 하지 못하고, 국적ㆍ신앙 또는 사\n",
      "회적 신분을 이유로 근로조건에 대한 차별적 처우를 하지 못한다.\n",
      "====================================================================================================\n",
      "\n",
      "제5조(근로조건의 준수) 근로자와 사용자는 각자가 단체협약, 취업규칙과 근로계약을 지키고 성실하게 이행할 의무가\n",
      "있다.\n",
      " \n",
      "제6조(균등한 처우) 사용자는 근로자에 대하여 남녀의 성(性)을 이유로 차별적 대우를 하지 못하고, 국적ㆍ신앙 또는 사\n",
      "회적 신분을 이유로 근로조건에 대한 차별적 처우를 하지 못한다.\n",
      " \n",
      "제7조(강제 근로의 금지) 사용자는 폭행, 협박\n",
      "----------------------------------------------------------------------------------------------------\n",
      "균등한 처우) 사용자는 근로자에 대하여 남녀의 성(性)을 이유로 차별적 대우를 하지 못하고, 국적ㆍ신앙 또는 사\n",
      "회적 신분을 이유로 근로조건에 대한 차별적 처우를 하지 못한다.\n",
      " \n",
      "제7조(강제 근로의 금지) 사용자는 폭행, 협박, 감금, 그 밖에 정신상 또는 신체상의 자유를 부당하게 구속하는 수단으로\n",
      "써 근로자의 자유의사에 어긋나는 근로를 강요하지 못한다.\n",
      "====================================================================================================\n",
      "\n",
      "법제처                                                            2                                                       국가법령정보센터\n",
      "근로기준법\n",
      "제8조(폭행의 금지) 사용자는 사고의 발생이나 그 밖의 어떠한 이유로도 근로자에게 폭행을 하지 못한다.\n",
      " \n",
      "제9조(중간\n",
      "----------------------------------------------------------------------------------------------------\n",
      "ㆍ도, 시ㆍ군ㆍ구, 읍ㆍ면ㆍ동, 그 밖에 이에\n",
      "준하는 것에 대하여도 적용된다.\n",
      " \n",
      "제13조(보고, 출석의 의무) 사용자 또는 근로자는 이 법의 시행에 관하여 고용노동부장관ㆍ「노동위원회법」에 따른 노\n",
      "동위원회(이하 “노동위원회”라 한다) 또는 근로감독관의 요구가 있으면 지체 없이 필요한 사항에 대하여 보고하거나\n",
      "출석하여야 한다. <개정 2010. 6. 4.>\n",
      "====================================================================================================\n",
      "\n",
      "준하는 것에 대하여도 적용된다.\n",
      " \n",
      "제13조(보고, 출석의 의무) 사용자 또는 근로자는 이 법의 시행에 관하여 고용노동부장관ㆍ「노동위원회법」에 따른 노\n",
      "동위원회(이하 “노동위원회”라 한다) 또는 근로감독관의 요구가 있으면 지체 없이 필요한 사항에 대하여 보고하거나\n",
      "출석하여야 한다. <개정 2010. 6. 4.>\n",
      " \n",
      "제14조(법령 주요 내용 등의 게시) ① \n",
      "----------------------------------------------------------------------------------------------------\n",
      "함]\n",
      " \n",
      "제17조(근로조건의 명시) ① 사용자는 근로계약을 체결할 때에 근로자에게 다음 각 호의 사항을 명시하여야 한다. 근로\n",
      "계약 체결 후 다음 각 호의 사항을 변경하는 경우에도 또한 같다. <개정 2010. 5. 25.>\n",
      "1. 임금\n",
      "2. 소정근로시간\n",
      "3. 제55조에 따른 휴일\n",
      "4. 제60조에 따른 연차 유급휴가\n",
      "5. 그 밖에 대통령령으로 정하는 근로조건\n",
      "====================================================================================================\n",
      "\n"
     ]
    }
   ],
   "source": [
    "from langchain_text_splitters import RecursiveCharacterTextSplitter\n",
    "\n",
    "# 재귀적 텍스트 분할기 초기화\n",
    "text_splitter = RecursiveCharacterTextSplitter(\n",
    "    chunk_size=1000,             # 청크 크기  \n",
    "    chunk_overlap=200,           # 청크 중 중복되는 부분 크기\n",
    "    length_function=len,         # 글자 수를 기준으로 분할\n",
    "    separators=[\"\\n\\n\", \"\\n\", \" \", \"\"],  # 구분자 - 재귀적으로 순차적으로 적용 \n",
    ")\n",
    "\n",
    "# split_documents() 메서드 사용 : Document 객체를 여러 개의 작은 청크 문서로 분할\n",
    "chunks = text_splitter.split_documents(pdf_docs)\n",
    "print(f\"생성된 텍스트 청크 수: {len(chunks)}\")\n",
    "print(f\"각 청크의 길이: {list(len(chunk.page_content) for chunk in chunks)}\")\n",
    "print()\n",
    "\n",
    "# 각 청크의 시작 부분과 끝 부분 확인 - 5개 청크만 출력\n",
    "for chunk in chunks[:5]:\n",
    "    print(chunk.page_content[:200])\n",
    "    print(\"-\" * 100)\n",
    "    print(chunk.page_content[-200:])\n",
    "    print(\"=\" * 100)\n",
    "    print()"
   ]
  },
  {
   "cell_type": "markdown",
   "id": "ef0ecd1d",
   "metadata": {},
   "source": [
    "### 3. **정규표현식 사용**"
   ]
  },
  {
   "cell_type": "code",
   "execution_count": 10,
   "id": "9134516a",
   "metadata": {},
   "outputs": [
    {
     "name": "stdout",
     "output_type": "stream",
     "text": [
      "생성된 텍스트 청크 수: 55\n",
      "각 청크의 길이: [939, 944, 273, 937, 922, 941, 986, 561, 971, 973, 387, 946, 751, 764, 935, 957, 401, 826, 890, 830, 996, 998, 951, 985, 274, 961, 889, 776, 947, 926, 999, 996, 479, 929, 890, 594, 961, 963, 409, 947, 998, 329, 866, 954, 464, 955, 989, 255, 999, 670, 923, 912, 291, 981, 880]\n",
      "\n",
      "법제처                                                            1                                                       국가법령정보센터\n",
      "근로기준법\n",
      " \n",
      "근로기준법\n",
      "[시행 2021. 11. 19.] [법률 제18176호, 2021. 5. 18., 일부개정]\n",
      "고용노동부 \n",
      "...\n",
      "이나 사업장에 근로를 제공하는 사람을 말한다.\n",
      "2. “사용자”란 사업주 또는 사업 경영 담당자, 그 밖에 근로자에 관한 사항에 대하여 사업주를 위하여 행위하는 자를\n",
      "말한다.\n",
      "3. “근로”란 정신노동과 육체노동을 말한다.\n",
      "4. “근로계약”이란 근로자가 사용자에게 근로를 제공하고 사용자는 이에 대하여 임금을 지급하는 것을 목적으로 체\n",
      "결된 계약을 말한다.\n",
      "5.\n",
      "====================================================================================================\n",
      "\n",
      "2. “사용자”란 사업주 또는 사업 경영 담당자, 그 밖에 근로자에 관한 사항에 대하여 사업주를 위하여 행위하는 자를\n",
      "말한다.\n",
      "3. “근로”란 정신노동과 육체노동을 말한다.\n",
      "4. “근로계약”이란 근로자가 사용자에게 근로를 제공하고 사용자는 이에 대하여 임금을 지급하는 것을 목적으로 체\n",
      "결된 계약을 말한다.\n",
      "5. “임금”이란 사용자가 근로의 대가로 근로자에게\n",
      "...\n",
      "등한 지위에서 자유의사에 따라 결정하여야 한다.\n",
      " \n",
      "제5조(근로조건의 준수) 근로자와 사용자는 각자가 단체협약, 취업규칙과 근로계약을 지키고 성실하게 이행할 의무가\n",
      "있다.\n",
      " \n",
      "제6조(균등한 처우) 사용자는 근로자에 대하여 남녀의 성(性)을 이유로 차별적 대우를 하지 못하고, 국적ㆍ신앙 또는 사\n",
      "회적 신분을 이유로 근로조건에 대한 차별적 처우를 하지 못한다.\n",
      "====================================================================================================\n",
      "\n",
      "제5조(근로조건의 준수) 근로자와 사용자는 각자가 단체협약, 취업규칙과 근로계약을 지키고 성실하게 이행할 의무가\n",
      "있다.\n",
      " \n",
      "제6조(균등한 처우) 사용자는 근로자에 대하여 남녀의 성(性)을 이유로 차별적 대우를 하지 못하고, 국적ㆍ신앙 또는 사\n",
      "회적 신분을 이유로 근로조건에 대한 차별적 처우를 하지 못한다.\n",
      " \n",
      "제7조(강제 근로의 금지) 사용자는 폭행, 협박\n",
      "...\n",
      "균등한 처우) 사용자는 근로자에 대하여 남녀의 성(性)을 이유로 차별적 대우를 하지 못하고, 국적ㆍ신앙 또는 사\n",
      "회적 신분을 이유로 근로조건에 대한 차별적 처우를 하지 못한다.\n",
      " \n",
      "제7조(강제 근로의 금지) 사용자는 폭행, 협박, 감금, 그 밖에 정신상 또는 신체상의 자유를 부당하게 구속하는 수단으로\n",
      "써 근로자의 자유의사에 어긋나는 근로를 강요하지 못한다.\n",
      "====================================================================================================\n",
      "\n",
      "법제처                                                            2                                                       국가법령정보센터\n",
      "근로기준법\n",
      "제8조(폭행의 금지) 사용자는 사고의 발생이나 그 밖의 어떠한 이유로도 근로자에게 폭행을 하지 못한다.\n",
      " \n",
      "제9조(중간\n",
      "...\n",
      "ㆍ광역시ㆍ도, 시ㆍ군ㆍ구, 읍ㆍ면ㆍ동, 그 밖에 이에\n",
      "준하는 것에 대하여도 적용된다.\n",
      " \n",
      "제13조(보고, 출석의 의무) 사용자 또는 근로자는 이 법의 시행에 관하여 고용노동부장관ㆍ「노동위원회법」에 따른 노\n",
      "동위원회(이하 “노동위원회”라 한다) 또는 근로감독관의 요구가 있으면 지체 없이 필요한 사항에 대하여 보고하거나\n",
      "출석하여야 한다. <개정 2010. 6.\n",
      "====================================================================================================\n",
      "\n",
      "제13조(보고, 출석의 의무) 사용자 또는 근로자는 이 법의 시행에 관하여 고용노동부장관ㆍ「노동위원회법」에 따른 노\n",
      "동위원회(이하 “노동위원회”라 한다) 또는 근로감독관의 요구가 있으면 지체 없이 필요한 사항에 대하여 보고하거나\n",
      "출석하여야 한다. <개정 2010. 6. 4.>\n",
      " \n",
      "제14조(법령 주요 내용 등의 게시) ① 사용자는 이 법과 이 법에 따른 대통\n",
      "...\n",
      "함]\n",
      " \n",
      "제17조(근로조건의 명시) ① 사용자는 근로계약을 체결할 때에 근로자에게 다음 각 호의 사항을 명시하여야 한다. 근로\n",
      "계약 체결 후 다음 각 호의 사항을 변경하는 경우에도 또한 같다. <개정 2010. 5. 25.>\n",
      "1. 임금\n",
      "2. 소정근로시간\n",
      "3. 제55조에 따른 휴일\n",
      "4. 제60조에 따른 연차 유급휴가\n",
      "5. 그 밖에 대통령령으로 정하는 근로조건\n",
      "====================================================================================================\n",
      "\n"
     ]
    }
   ],
   "source": [
    "from langchain_text_splitters import CharacterTextSplitter\n",
    "\n",
    "# 문장을 구분하여 분할 - 정규표현식 사용 (문장 구분자: 마침표, 느낌표, 물음표 다음에 공백이 오는 경우)\n",
    "text_splitter = CharacterTextSplitter(\n",
    "    separator=r'(?<=[.!?])\\s+',  # 각 Document 객체의 page_content 속성을 문장으로 분할\n",
    "    chunk_size=1000,\n",
    "    chunk_overlap=200,\n",
    "    is_separator_regex=True,      # 구분자가 정규식인지 여부: True\n",
    "    keep_separator=True,          # 구분자 유지 여부: True\n",
    ")\n",
    "\n",
    "# split_documents() 메서드 사용 : Document 객체를 여러 개의 작은 청크 문서로 분할\n",
    "chunks = text_splitter.split_documents(pdf_docs)  # 모든 문서를 분할\n",
    "print(f\"생성된 텍스트 청크 수: {len(chunks)}\")\n",
    "print(f\"각 청크의 길이: {list(len(chunk.page_content) for chunk in chunks)}\")\n",
    "print()\n",
    "\n",
    "# 각 청크의 시작 부분과 끝 부분 확인 - 5개 청크만 출력\n",
    "for chunk in chunks[:5]:\n",
    "    print(chunk.page_content[:200])\n",
    "    print(\"...\")\n",
    "    print(chunk.page_content[-200:])\n",
    "    print(\"=\" * 100)\n",
    "    print()"
   ]
  },
  {
   "cell_type": "markdown",
   "id": "9ac17b61",
   "metadata": {},
   "source": [
    "`(4) 유사도 기반 검색`"
   ]
  },
  {
   "cell_type": "markdown",
   "id": "1e4764ba",
   "metadata": {},
   "source": [
    "### 4. **토큰 수를 기반으로 분할**"
   ]
  },
  {
   "cell_type": "markdown",
   "id": "26c2721f",
   "metadata": {},
   "source": [
    "`(1) tiktoken`  \n",
    "- OpenAI에서 만든 BPE Tokenizer"
   ]
  },
  {
   "cell_type": "code",
   "execution_count": null,
   "id": "df3a3f9f",
   "metadata": {},
   "outputs": [],
   "source": [
    "# 첫번째 문서 객체의 텍스트 길이\n",
    "len(pdf_docs[0].page_content)"
   ]
  },
  {
   "cell_type": "code",
   "execution_count": null,
   "id": "58081f4f",
   "metadata": {},
   "outputs": [],
   "source": [
    "from langchain_text_splitters import RecursiveCharacterTextSplitter\n",
    "\n",
    "# TikToken 인코더를 사용하여 재귀적 텍스트 분할기 초기화\n",
    "text_splitter = RecursiveCharacterTextSplitter.from_tiktoken_encoder(\n",
    "    encoding_name=\"cl100k_base\", \n",
    "    # model_name=\"gpt-4.1-mini\",\n",
    "    chunk_size=300, \n",
    "    chunk_overlap=0,\n",
    ")\n",
    "\n",
    "# split_documents() 메서드 사용 : Document 객체를 여러 개의 작은 청크 문서로 분할\n",
    "chunks = text_splitter.split_documents([pdf_docs[0]])  # 첫 번째 문서만 분할\n",
    "\n",
    "print(f\"생성된 청크 수: {len(chunks)}\")\n",
    "print(f\"각 청크의 길이: {list(len(chunk.page_content) for chunk in chunks)}\")\n",
    "\n",
    "# 각 청크의 시작 부분과 끝 부분 확인\n",
    "for chunk in chunks[:5]:\n",
    "    print(chunk.page_content[:50])\n",
    "    print(\"-\" * 50)\n",
    "    print(chunk.page_content[-50:])\n",
    "    print(\"=\" * 50)\n",
    "    print()"
   ]
  },
  {
   "cell_type": "code",
   "execution_count": null,
   "id": "cd7bff50",
   "metadata": {},
   "outputs": [],
   "source": [
    "import tiktoken\n",
    "\n",
    "tokenizer = tiktoken.get_encoding(\"cl100k_base\")\n",
    "# tokenizer = tiktoken.encoding_for_model(\"gpt-4.1-mini\")\n",
    "\n",
    "for chunk in chunks[:5]:\n",
    "\n",
    "    # 각 청크를 토큰화\n",
    "    tokens = tokenizer.encode(chunk.page_content)\n",
    "    # 각 청크의 단어 수 확인\n",
    "    print(len(tokens))\n",
    "    # 각 청크의 토큰화 결과 확인 (첫 10개 토큰만 출력)\n",
    "    print(tokens[:10])\n",
    "    # 토큰 ID를 실제 토큰(문자열)로 변환해서 출력\n",
    "    token_strings = [tokenizer.decode([token]) for token in tokens[:10]]\n",
    "    print(token_strings)\n",
    "\n",
    "    print(\"=\" * 50)\n",
    "    print()"
   ]
  },
  {
   "cell_type": "markdown",
   "id": "5956daaa",
   "metadata": {},
   "source": [
    "`(2) Hugging Face 토크나이저`  \n",
    "- Hugging Face tokenizer 모델의 토큰 수를 기준으로 분할\n",
    "- uv add langchain_huggingface sentence_transformers"
   ]
  },
  {
   "cell_type": "code",
   "execution_count": null,
   "id": "7d51cdaf",
   "metadata": {},
   "outputs": [],
   "source": [
    "from transformers import AutoTokenizer \n",
    "tokenizer = AutoTokenizer.from_pretrained(\"BAAI/bge-m3\")\n",
    "\n",
    "tokenizer"
   ]
  },
  {
   "cell_type": "code",
   "execution_count": null,
   "id": "c5abee28",
   "metadata": {},
   "outputs": [],
   "source": [
    "# 토크나이저 인코딩 - 문장을 토큰(ID)으로 변환\n",
    "tokens = tokenizer.encode(\"안녕하세요. 반갑습니다.\")\n",
    "print(tokens)"
   ]
  },
  {
   "cell_type": "code",
   "execution_count": null,
   "id": "c6a76e60",
   "metadata": {},
   "outputs": [],
   "source": [
    "# 토큰을 출력 (토큰 ID를 실제 토큰(문자열)로 변환)\n",
    "print(tokenizer.convert_ids_to_tokens(tokens)) "
   ]
  },
  {
   "cell_type": "code",
   "execution_count": null,
   "id": "6cfbaec9",
   "metadata": {},
   "outputs": [],
   "source": [
    "# 디코딩 - 토큰을 문자열로 변환\n",
    "print(tokenizer.decode(tokens, skip_special_tokens=True))"
   ]
  },
  {
   "cell_type": "code",
   "execution_count": null,
   "id": "4c468edc",
   "metadata": {},
   "outputs": [],
   "source": [
    "from langchain_text_splitters import RecursiveCharacterTextSplitter\n",
    "\n",
    "# Huggingface 토크나이저를 사용하여 재귀적 텍스트 분할기 초기화\n",
    "text_splitter = RecursiveCharacterTextSplitter.from_huggingface_tokenizer(\n",
    "    tokenizer=tokenizer,\n",
    "    chunk_size=300, \n",
    "    chunk_overlap=0,\n",
    ")\n",
    "\n",
    "# split_documents() 메서드 사용 : Document 객체를 여러 개의 작은 청크 문서로 분할\n",
    "chunks = text_splitter.split_documents([pdf_docs[0]]) # 첫 번째 문서만 분할\n",
    "\n",
    "print(f\"생성된 청크 수: {len(chunks)}\")\n",
    "print(f\"각 청크의 길이: {list(len(chunk.page_content) for chunk in chunks)}\")\n",
    "print()\n",
    "\n",
    "for chunk in chunks[:5]:\n",
    "\n",
    "    # 각 청크를 토큰화\n",
    "    tokens = tokenizer.encode(chunk.page_content)\n",
    "    # 각 청크의 단어 수 확인\n",
    "    print(len(tokens))\n",
    "    # 각 청크의 토큰화 결과 확인 (첫 10개 토큰만 출력)\n",
    "    print(tokens[:10])\n",
    "    # 토큰 ID를 실제 토큰(문자열)로 변환해서 출력\n",
    "    token_strings = tokenizer.convert_ids_to_tokens(tokens[:10]) \n",
    "    print(token_strings)\n",
    "\n",
    "    print(\"=\" * 50)\n",
    "    print()"
   ]
  },
  {
   "cell_type": "markdown",
   "id": "7f0bbc2e",
   "metadata": {},
   "source": [
    "### 5. **Semantic Chunking**\n",
    "\n",
    "- **SemanticChunker**는 텍스트를 의미 단위로 **분할**하는 특수한 텍스트 분할도구 \n",
    "\n",
    "- 단순 길이 기반이 아닌 **의미 기반**으로 텍스트를 청크화하는데 효과적\n",
    "\n",
    "- **breakpoint_threshold_type**: Text Splitting의 다양한 임계값(Threshold) 설정 방식 (통계적 기법) \n",
    "\n",
    "    - **Gradient** 방식: 임베딩 벡터 간의 **기울기 변화**를 기준으로 텍스트를 분할\n",
    "    - **Percentile** 방식: 임베딩 거리의 **백분위수**를 기준으로 분할 지점을 결정\n",
    "    - **Standard Deviation** 방식: 임베딩 거리의 **표준편차**를 활용하여 유의미한 변화점을 찾아서 분할\n",
    "    - **Interquartile** 방식: 임베딩 거리의 **사분위수 범위**를 기준으로 이상치를 감지하여 분할\n",
    "\n",
    "- 설치: pip install langchain_experimental 또는 uv add langchain_experimental\n"
   ]
  },
  {
   "cell_type": "markdown",
   "id": "7a652271",
   "metadata": {},
   "source": [
    "# **LangSmith**: LLM Observability\n",
    "\n",
    "- LangSmith는 **LLM 애플리케이션의 관찰성(Observability)**을 제공하는 도구임.\n",
    "\n",
    "- 개발자가 LLM 체인과 에이전트를 **효과적으로 디버깅**하고 모니터링할 수 있도록 지원함.\n",
    "\n",
    "- 주요 기능으로는 체인 실행 **로깅 및 추적**이 포함됨.\n",
    "\n",
    "- **프롬프트 디버깅**과 성능 측정 및 분석 기능을 제공함."
   ]
  },
  {
   "cell_type": "markdown",
   "id": "de66ad58",
   "metadata": {},
   "source": [
    "### 1) LangSmith 계정 가입\n",
    "\n",
    "- langsmith 가입 필요 (https://www.langchain.com/langsmith)\n",
    "- 유료 (개인 개발자 대상 부분 무료)"
   ]
  },
  {
   "cell_type": "markdown",
   "id": "786b82d1",
   "metadata": {},
   "source": [
    "### 2) LangSmith 환경 설정\n",
    "\n",
    "\n",
    "- langsmith 가입 필요 (https://www.langchain.com/langsmith)\n",
    "- 유료 (개인 개발자 대상 부분 무료)\n",
    "\n",
    "- .env 파일에 환경 변수 설정\n",
    "    ```\n",
    "    LANGCHAIN_API_KEY=your_langsmith_api_key\n",
    "    LANGSMITH_TRACING=true\n",
    "    LANGCHAIN_PROJECT=your_project_name \n",
    "    ```"
   ]
  },
  {
   "cell_type": "code",
   "execution_count": null,
   "id": "39e68032",
   "metadata": {},
   "outputs": [
    {
     "name": "stdout",
     "output_type": "stream",
     "text": [
      "true\n"
     ]
    }
   ],
   "source": [
    "from dotenv import load_dotenv\n",
    "load_dotenv()\n",
    "\n",
    "# Langsmith tracing 여부를 확인 (true: langsmith 추척 활성화, false: langsmith 추척 비활성화)\n",
    "import os\n",
    "print(os.getenv('LANGSMITH_TRACING'))"
   ]
  },
  {
   "cell_type": "markdown",
   "id": "f98bbe50",
   "metadata": {},
   "source": [
    "---\n",
    "\n",
    "# LCEL(LangChain Expression Language) \n",
    "\n",
    "- **LCEL**은 `|` 연산자를 사용해 컴포넌트들을 순차적으로 연결하는 선언적 체이닝을 지원합니다\n",
    "\n",
    "- **재사용성**이 높아 정의된 체인을 다른 체인의 컴포넌트로 활용할 수 있습니다\n",
    "\n",
    "- **다양한 실행 방식**(.invoke(), .batch(), .stream(), .astream())으로 동기/비동기 처리가 가능합니다\n",
    "\n",
    "- **배치 처리**시 자동 최적화를 통해 효율적인 작업 수행이 가능합니다\n"
   ]
  },
  {
   "cell_type": "markdown",
   "id": "5b009c70",
   "metadata": {},
   "source": [
    "#### 1) **Prompt + LLM**\n",
    "\n",
    "* 기본 구조: `Prompt | LLM` 형태로, 파이프(|) 연산자를 사용해 프롬프트와 LLM을 순차적으로 연결합니다.\n",
    "\n",
    "* 데이터 흐름: 사용자 입력이 Prompt 템플릿을 통해 처리된 후, LLM에 전달되어 최종 응답이 생성됩니다.\n",
    "\n",
    "* 실행 순서: 파이프라인은 왼쪽에서 오른쪽으로 순차적으로 실행되며, 각 컴포넌트의 출력이 다음 컴포넌트의 입력으로 전달됩니다."
   ]
  },
  {
   "cell_type": "code",
   "execution_count": null,
   "id": "8d1b5cac",
   "metadata": {},
   "outputs": [],
   "source": [
    "from langchain_openai import ChatOpenAI\n",
    "\n",
    "# LLM model\n",
    "llm = ChatOpenAI(\n",
    "    model=\"gpt-4.1-mini\", \n",
    "    temperature=0.3, \n",
    "    top_p=0.95,\n",
    "    )\n",
    "\n",
    "# 모델에 프롬프트를 입력\n",
    "response = llm.invoke(\"탄소의 원자 번호는 무엇인가요?\")"
   ]
  },
  {
   "cell_type": "code",
   "execution_count": null,
   "id": "1bb5c0aa",
   "metadata": {},
   "outputs": [
    {
     "data": {
      "text/plain": [
       "AIMessage(content='탄소의 원자 번호는 6입니다.', additional_kwargs={'refusal': None}, response_metadata={'token_usage': {'completion_tokens': 11, 'prompt_tokens': 18, 'total_tokens': 29, 'completion_tokens_details': {'accepted_prediction_tokens': 0, 'audio_tokens': 0, 'reasoning_tokens': 0, 'rejected_prediction_tokens': 0}, 'prompt_tokens_details': {'audio_tokens': 0, 'cached_tokens': 0}}, 'model_name': 'gpt-4.1-mini-2025-04-14', 'system_fingerprint': 'fp_6f2eabb9a5', 'id': 'chatcmpl-BlSzz1yyk8vilXeXbaTE9Y7Izz42h', 'service_tier': 'default', 'finish_reason': 'stop', 'logprobs': None}, id='run--822f42c3-db88-4327-a530-d0a9116ee094-0', usage_metadata={'input_tokens': 18, 'output_tokens': 11, 'total_tokens': 29, 'input_token_details': {'audio': 0, 'cache_read': 0}, 'output_token_details': {'audio': 0, 'reasoning': 0}})"
      ]
     },
     "metadata": {},
     "output_type": "display_data"
    }
   ],
   "source": [
    "# 응답 객체 확인\n",
    "response"
   ]
  },
  {
   "cell_type": "code",
   "execution_count": null,
   "id": "37a79e82",
   "metadata": {},
   "outputs": [
    {
     "data": {
      "text/plain": [
       "'탄소의 원자 번호는 6입니다.'"
      ]
     },
     "metadata": {},
     "output_type": "display_data"
    }
   ],
   "source": [
    "# 응답 객체의 텍스트를 확인\n",
    "response.content"
   ]
  },
  {
   "cell_type": "code",
   "execution_count": null,
   "id": "bd18a366",
   "metadata": {},
   "outputs": [
    {
     "data": {
      "text/plain": [
       "{'token_usage': {'completion_tokens': 11,\n",
       "  'prompt_tokens': 18,\n",
       "  'total_tokens': 29,\n",
       "  'completion_tokens_details': {'accepted_prediction_tokens': 0,\n",
       "   'audio_tokens': 0,\n",
       "   'reasoning_tokens': 0,\n",
       "   'rejected_prediction_tokens': 0},\n",
       "  'prompt_tokens_details': {'audio_tokens': 0, 'cached_tokens': 0}},\n",
       " 'model_name': 'gpt-4.1-mini-2025-04-14',\n",
       " 'system_fingerprint': 'fp_6f2eabb9a5',\n",
       " 'id': 'chatcmpl-BlSzz1yyk8vilXeXbaTE9Y7Izz42h',\n",
       " 'service_tier': 'default',\n",
       " 'finish_reason': 'stop',\n",
       " 'logprobs': None}"
      ]
     },
     "metadata": {},
     "output_type": "display_data"
    }
   ],
   "source": [
    "# 응답 객체의 메타데이터를 확인\n",
    "response.response_metadata"
   ]
  },
  {
   "cell_type": "markdown",
   "id": "73ea2f8c",
   "metadata": {},
   "source": [
    "![Langfuse Screenshot](https://raw.githubusercontent.com/tsdata/image_files/main/202505/langfuse_screenshot_0001.png)"
   ]
  },
  {
   "cell_type": "code",
   "execution_count": null,
   "id": "54d73667",
   "metadata": {},
   "outputs": [
    {
     "name": "stdout",
     "output_type": "stream",
     "text": [
      "템플릿 변수:\n",
      "- 필수 변수: ['question', 'topic']\n"
     ]
    }
   ],
   "source": [
    "from langchain_core.prompts import PromptTemplate\n",
    "\n",
    "# 템플릿 문자열 정의\n",
    "template = \"\"\"\n",
    "당신은 {topic} 분야의 전문가입니다. {topic}에 관한 다음 질문에 답변해주세요.\n",
    "질문: {question}\n",
    "답변: \"\"\"\n",
    "\n",
    "# PromptTemplate 객체 생성\n",
    "prompt = PromptTemplate.from_template(template)\n",
    "\n",
    "# 템플릿 사용 예시\n",
    "formatted_prompt = prompt.format(\n",
    "    topic=\"인공지능\",\n",
    "    question=\"딥러닝과 머신러닝의 주요 차이점은 무엇인가요?\"\n",
    ")\n",
    "\n",
    "print(\"템플릿 변수:\")\n",
    "print(f\"- 필수 변수: {prompt.input_variables}\")"
   ]
  },
  {
   "cell_type": "code",
   "execution_count": null,
   "id": "1f1ba60c",
   "metadata": {},
   "outputs": [
    {
     "name": "stdout",
     "output_type": "stream",
     "text": [
      "생성된 프롬프트:\n",
      "\n",
      "당신은 인공지능 분야의 전문가입니다. 인공지능에 관한 다음 질문에 답변해주세요.\n",
      "질문: 딥러닝과 머신러닝의 주요 차이점은 무엇인가요?\n",
      "답변: \n"
     ]
    }
   ],
   "source": [
    "print(\"생성된 프롬프트:\")\n",
    "print(formatted_prompt)"
   ]
  },
  {
   "cell_type": "code",
   "execution_count": null,
   "id": "9d12ec08",
   "metadata": {},
   "outputs": [
    {
     "name": "stdout",
     "output_type": "stream",
     "text": [
      "\n",
      "당신은 {topic} 분야의 전문가입니다. {topic}에 관한 다음 질문에 답변해주세요.\n",
      "질문: {question}\n",
      "답변: \n"
     ]
    }
   ],
   "source": [
    "# prompt 객체의 템플릿을 확인\n",
    "print(prompt.template)"
   ]
  },
  {
   "cell_type": "code",
   "execution_count": null,
   "id": "222b5494",
   "metadata": {},
   "outputs": [],
   "source": [
    "# chain을 구성\n",
    "chain = prompt | llm"
   ]
  },
  {
   "cell_type": "code",
   "execution_count": null,
   "id": "c548f85b",
   "metadata": {},
   "outputs": [
    {
     "data": {
      "text/plain": [
       "PromptTemplate(input_variables=['question', 'topic'], input_types={}, partial_variables={}, template='\\n당신은 {topic} 분야의 전문가입니다. {topic}에 관한 다음 질문에 답변해주세요.\\n질문: {question}\\n답변: ')\n",
       "| ChatOpenAI(client=<openai.resources.chat.completions.completions.Completions object at 0x1132c8940>, async_client=<openai.resources.chat.completions.completions.AsyncCompletions object at 0x1132c8b50>, root_client=<openai.OpenAI object at 0x1132c8ee0>, root_async_client=<openai.AsyncOpenAI object at 0x1132c8730>, model_name='gpt-4.1-mini', temperature=0.3, model_kwargs={}, openai_api_key=SecretStr('**********'), top_p=0.95)"
      ]
     },
     "metadata": {},
     "output_type": "display_data"
    }
   ],
   "source": [
    "# chain 객체 확인\n",
    "chain"
   ]
  },
  {
   "cell_type": "code",
   "execution_count": null,
   "id": "eb2af6a5",
   "metadata": {},
   "outputs": [
    {
     "data": {
      "text/plain": [
       "{'properties': {'question': {'title': 'Question', 'type': 'string'},\n",
       "  'topic': {'title': 'Topic', 'type': 'string'}},\n",
       " 'required': ['question', 'topic'],\n",
       " 'title': 'PromptInput',\n",
       " 'type': 'object'}"
      ]
     },
     "metadata": {},
     "output_type": "display_data"
    }
   ],
   "source": [
    "# chain 객체의 입력 스키마를 확인\n",
    "chain.input_schema.model_json_schema() "
   ]
  },
  {
   "cell_type": "code",
   "execution_count": null,
   "id": "45be411a",
   "metadata": {},
   "outputs": [],
   "source": [
    "# chain 실행\n",
    "response = chain.invoke( \n",
    "    {\n",
    "        \"topic\": \"화학(Chemistry)\", \n",
    "        \"question\": \"탄소의 원자 번호는 무엇인가요?\"\n",
    "    }\n",
    ")"
   ]
  },
  {
   "cell_type": "code",
   "execution_count": null,
   "id": "f6db0c80",
   "metadata": {},
   "outputs": [
    {
     "data": {
      "text/plain": [
       "AIMessage(content='탄소의 원자 번호는 6입니다.', additional_kwargs={'refusal': None}, response_metadata={'token_usage': {'completion_tokens': 11, 'prompt_tokens': 54, 'total_tokens': 65, 'completion_tokens_details': {'accepted_prediction_tokens': 0, 'audio_tokens': 0, 'reasoning_tokens': 0, 'rejected_prediction_tokens': 0}, 'prompt_tokens_details': {'audio_tokens': 0, 'cached_tokens': 0}}, 'model_name': 'gpt-4.1-mini-2025-04-14', 'system_fingerprint': 'fp_658b958c37', 'id': 'chatcmpl-BlTApME9dt6ajp1DRKRlRB3vnaAaX', 'service_tier': 'default', 'finish_reason': 'stop', 'logprobs': None}, id='run--3abf0f71-4ca3-4627-b98c-4b5fedfd7d39-0', usage_metadata={'input_tokens': 54, 'output_tokens': 11, 'total_tokens': 65, 'input_token_details': {'audio': 0, 'cache_read': 0}, 'output_token_details': {'audio': 0, 'reasoning': 0}})"
      ]
     },
     "metadata": {},
     "output_type": "display_data"
    }
   ],
   "source": [
    "# 응답 객체를 출력\n",
    "response"
   ]
  },
  {
   "cell_type": "code",
   "execution_count": null,
   "id": "cbcd6bd5",
   "metadata": {},
   "outputs": [
    {
     "data": {
      "text/plain": [
       "'탄소의 원자 번호는 6입니다.'"
      ]
     },
     "metadata": {},
     "output_type": "display_data"
    }
   ],
   "source": [
    "# 응답 객체의 텍스트를 출력\n",
    "response.content"
   ]
  },
  {
   "cell_type": "code",
   "execution_count": null,
   "id": "07e091bb",
   "metadata": {},
   "outputs": [
    {
     "data": {
      "text/plain": [
       "{'token_usage': {'completion_tokens': 11,\n",
       "  'prompt_tokens': 54,\n",
       "  'total_tokens': 65,\n",
       "  'completion_tokens_details': {'accepted_prediction_tokens': 0,\n",
       "   'audio_tokens': 0,\n",
       "   'reasoning_tokens': 0,\n",
       "   'rejected_prediction_tokens': 0},\n",
       "  'prompt_tokens_details': {'audio_tokens': 0, 'cached_tokens': 0}},\n",
       " 'model_name': 'gpt-4.1-mini-2025-04-14',\n",
       " 'system_fingerprint': 'fp_658b958c37',\n",
       " 'id': 'chatcmpl-BlTApME9dt6ajp1DRKRlRB3vnaAaX',\n",
       " 'service_tier': 'default',\n",
       " 'finish_reason': 'stop',\n",
       " 'logprobs': None}"
      ]
     },
     "metadata": {},
     "output_type": "display_data"
    }
   ],
   "source": [
    "# 응답 객체의 메타데이터를 출력\n",
    "response.response_metadata"
   ]
  },
  {
   "cell_type": "markdown",
   "id": "3dd84f68",
   "metadata": {},
   "source": [
    "![Langfuse Screenshot](https://raw.githubusercontent.com/tsdata/image_files/main/202505/langfuse_screenshot_0002.png)"
   ]
  },
  {
   "cell_type": "markdown",
   "id": "8d160a8a",
   "metadata": {},
   "source": [
    "#### **2) Prompt + LLM + Output Parser**\n",
    "\n",
    "* 데이터 파이프라인: `Prompt | LLM | OutputParser` 형태로 구성되어 LLM의 출력을 구조화된 형식으로 변환합니다.\n",
    "\n",
    "* Parser 종류: JSON, XML 등 다양한 형식의 파서를 지원하여 LLM 출력을 원하는 데이터 구조로 변환할 수 있습니다.\n",
    "\n",
    "* 유효성 검증: Parser가 출력 형식을 검증하여 잘못된 형식의 응답을 필터링하고 안정적인 데이터 처리를 보장합니다."
   ]
  },
  {
   "cell_type": "code",
   "execution_count": null,
   "id": "8a543043",
   "metadata": {},
   "outputs": [],
   "source": [
    "### 문자열 출력 파서 \n",
    "\n",
    "from langchain_core.output_parsers import StrOutputParser\n",
    "\n",
    "# 출력 파서를 생성\n",
    "output_parser = StrOutputParser()\n",
    "\n",
    "# 출력 파서를 실행\n",
    "output_parser.invoke(response)"
   ]
  },
  {
   "cell_type": "code",
   "execution_count": null,
   "id": "688911eb",
   "metadata": {},
   "outputs": [],
   "source": [
    "# 출력 파서를 chain에 추가\n",
    "chain = prompt | llm | output_parser\n",
    "\n",
    "# chain을 실행\n",
    "response = chain.invoke(\n",
    "    {\n",
    "        \"topic\": \"화학(Chemistry)\", \n",
    "        \"question\": \"탄소의 원자 번호는 무엇인가요?\"\n",
    "    }\n",
    ")\n",
    "\n",
    "# 응답 객체를 출력\n",
    "response"
   ]
  },
  {
   "cell_type": "code",
   "execution_count": null,
   "id": "b540c2de",
   "metadata": {},
   "outputs": [
    {
     "data": {
      "text/plain": [
       "{'properties': {'question': {'title': 'Question', 'type': 'string'},\n",
       "  'topic': {'title': 'Topic', 'type': 'string'}},\n",
       " 'required': ['question', 'topic'],\n",
       " 'title': 'PromptInput',\n",
       " 'type': 'object'}"
      ]
     },
     "metadata": {},
     "output_type": "display_data"
    }
   ],
   "source": [
    "# input_schema (chain)\n",
    "chain.input_schema.model_json_schema()"
   ]
  },
  {
   "cell_type": "code",
   "execution_count": null,
   "id": "481aaccc",
   "metadata": {},
   "outputs": [
    {
     "data": {
      "text/plain": [
       "{'properties': {'question': {'title': 'Question', 'type': 'string'},\n",
       "  'topic': {'title': 'Topic', 'type': 'string'}},\n",
       " 'required': ['question', 'topic'],\n",
       " 'title': 'PromptInput',\n",
       " 'type': 'object'}"
      ]
     },
     "metadata": {},
     "output_type": "display_data"
    }
   ],
   "source": [
    "# input_schema (prompt)\n",
    "prompt.input_schema.model_json_schema()"
   ]
  },
  {
   "cell_type": "markdown",
   "id": "589e3459",
   "metadata": {},
   "source": [
    "![Langfuse Screenshot](https://raw.githubusercontent.com/tsdata/image_files/main/202505/langfuse_screenshot_0003.png)"
   ]
  },
  {
   "cell_type": "markdown",
   "id": "80a8dc4b",
   "metadata": {},
   "source": [
    "---\n",
    "# **Runnable**\n",
    "\n",
    "* 실행 인터페이스: 모든 LangChain 컴포넌트는 Runnable 인터페이스를 구현하여 일관된 방식으로 실행됩니다.\n",
    "\n",
    "* 실행 메서드: `.invoke()`, `.batch()`, `.stream()`, `.astream()` 등 다양한 실행 방식을 제공합니다.\n",
    "\n",
    "* 호환성: 모든 Runnable 컴포넌트는 파이프(|) 연산자를 통해 연결 가능하며, 재사용이 용이합니다.\n",
    "\n",
    "* Runnable의 주요 유형:\n",
    "\n",
    "    * `RunnableSequence`: 여러 Runnable을 순차적으로 실행\n",
    "    * `RunnablePassthrough`: 입력을 그대로 다음 단계로 전달    \n",
    "    * `RunnableParallel`: 여러 Runnable을 병렬로 실행\n",
    "    * `RunnableLambda`: 파이썬 함수를 Runnable로 래핑하여 체인에서 사용"
   ]
  },
  {
   "cell_type": "markdown",
   "id": "e7d15d02",
   "metadata": {},
   "source": [
    "#### 1) **RunnableSequence**\n",
    "\n",
    "- **RunnableSequence**는 컴포넌트들을 연결하여 순차적으로 데이터를 처리하는 체인입니다\n",
    "\n",
    "- `|` 연산자로 연결된 각 단계의 **출력이 다음 단계의 입력**으로 전달됩니다\n",
    "\n",
    "- **다양한 실행 방식**(동기/비동기, 배치/스트리밍)을 지원합니다\n",
    "\n",
    "- LLM 체인, 데이터 파이프라인, 자동화된 작업 등 **다단계 처리**에 활용됩니다"
   ]
  },
  {
   "cell_type": "code",
   "execution_count": null,
   "id": "91f32dde",
   "metadata": {},
   "outputs": [],
   "source": [
    "from langchain_core.runnables import RunnableSequence\n",
    "from langchain_core.prompts import PromptTemplate\n",
    "from langchain_core.output_parsers import StrOutputParser\n",
    "from langchain_openai import ChatOpenAI\n",
    "\n",
    "\n",
    "# 컴포넌트 정의\n",
    "prompt = PromptTemplate.from_template(\"'{text}'를 영어로 번역해주세요. 번역된 문장만을 출력해주세요.\")\n",
    "model = ChatOpenAI(\n",
    "    model=\"gpt-4.1-mini\", \n",
    "    temperature=0.3, \n",
    "    top_p=0.95\n",
    ")\n",
    "output_parser = StrOutputParser()\n",
    "\n",
    "# RunnableSequence 생성 - 함수 사용 \n",
    "translation_chain = RunnableSequence(\n",
    "    first=prompt,\n",
    "    middle=[model],   # 리스트로 전달하는 점에 주의\n",
    "    last=output_parser\n",
    ")\n",
    "\n",
    "# RunnableSequence 생성 - 연산자 사용\n",
    "# translation_chain = prompt | model | output_parser"
   ]
  },
  {
   "cell_type": "code",
   "execution_count": null,
   "id": "c01c4a76",
   "metadata": {},
   "outputs": [],
   "source": [
    "# 동기 실행\n",
    "result = translation_chain.invoke({\"text\": \"안녕하세요\"})\n",
    "print(result)  "
   ]
  },
  {
   "cell_type": "markdown",
   "id": "a5e990ce",
   "metadata": {},
   "source": [
    "![Langfuse Screenshot](https://raw.githubusercontent.com/tsdata/image_files/main/202505/langfuse_screenshot_0004.png)"
   ]
  },
  {
   "cell_type": "markdown",
   "id": "dea7aa98",
   "metadata": {},
   "source": [
    "#### 2) **RunnableParallel**\n",
    "\n",
    "- **RunnableParallel**은 여러 컴포넌트를 딕셔너리 형태로 구성해 **동시 실행**합니다\n",
    "\n",
    "- 동일한 입력이 모든 병렬 컴포넌트에 전달되며, 결과는 **키-값 쌍**으로 반환됩니다\n",
    "\n",
    "- **데이터 변환**과 **파이프라인 구성**에 특화되어 있으며, 출력 형식을 다음 단계에 맞게 조정할 수 있습니다"
   ]
  },
  {
   "cell_type": "markdown",
   "id": "aafa9d09",
   "metadata": {},
   "source": [
    "`(1) 질문 분석 체인`"
   ]
  },
  {
   "cell_type": "code",
   "execution_count": null,
   "id": "33070d2f",
   "metadata": {},
   "outputs": [
    {
     "name": "stdout",
     "output_type": "stream",
     "text": [
      "분류 결과: 화학(Chemistry)\n"
     ]
    }
   ],
   "source": [
    "# 질문과 관련된 분야를 찾는 프롬프트\n",
    "from langchain_core.prompts import PromptTemplate\n",
    "from langchain_core.output_parsers import StrOutputParser\n",
    "\n",
    "# 출력 파서 정의\n",
    "output_parser = StrOutputParser()\n",
    "\n",
    "# 질문 템플릿 정의\n",
    "question_template = \"\"\"\n",
    "다음 카테고리 중 하나로 입력을 분류하세요. 다른 불필요한 텍스트는 출력하지 마세요:\n",
    "- 화학(Chemistry)\n",
    "- 물리(Physics)\n",
    "- 생물(Biology)\n",
    "\n",
    "# 예시:\n",
    "Q: 사람의 염색체는 모두 몇개가 있나요?\n",
    "A: 생물(Biology)\n",
    "\n",
    "Q: {question}\n",
    "A: \"\"\"\n",
    "\n",
    "# 프롬프트 생성\n",
    "question_prompt = PromptTemplate.from_template(question_template)\n",
    "\n",
    "# 체인 구성\n",
    "question_chain = question_prompt | llm | output_parser\n",
    "\n",
    "# 체인 실행\n",
    "result = question_chain.invoke({\"question\": \"탄소의 원자 번호는 무엇인가요?\"})\n",
    "print(f\"분류 결과: {result}\")"
   ]
  },
  {
   "cell_type": "markdown",
   "id": "d547a968",
   "metadata": {},
   "source": [
    "`(2) 언어 감지 체인`"
   ]
  },
  {
   "cell_type": "code",
   "execution_count": null,
   "id": "7d8c7a74",
   "metadata": {},
   "outputs": [
    {
     "name": "stdout",
     "output_type": "stream",
     "text": [
      "입력: What is the atomic number of carbon?\n",
      "분류 결과: English\n",
      "\n",
      "입력: 탄소의 원자 번호는 무엇인가요?\n",
      "분류 결과: Korean\n",
      "\n",
      "입력: ¿Cuál es el número atómico del carbono?\n",
      "분류 결과: Others\n",
      "\n"
     ]
    }
   ],
   "source": [
    "# 질문에 사용된 언어를 구분하는 프롬프트\n",
    "from langchain_core.prompts import PromptTemplate\n",
    "from langchain_core.output_parsers import StrOutputParser\n",
    "\n",
    "# 출력 파서 정의\n",
    "output_parser = StrOutputParser()\n",
    "\n",
    "# 언어 분류 템플릿 정의\n",
    "language_template = \"\"\"\n",
    "입력된 텍스트의 언어를 다음 카테고리 중 하나로 분류하세요. 다른 불필요한 텍스트는 출력하지 마세요:\n",
    "- 영어(English)\n",
    "- 한국어(Korean)\n",
    "- 기타(Others)\n",
    "\n",
    "# 예시:\n",
    "Q: How many protons are in a carbon atom?\n",
    "A: English\n",
    "\n",
    "Q: 탄소의 원자 번호는 무엇인가요?\n",
    "A: Korean\n",
    "\n",
    "Q: ¿Cuál es el número atómico del carbono?\n",
    "A: Others\n",
    "\n",
    "입력: {question}\n",
    "답변: \"\"\"\n",
    "\n",
    "# 프롬프트 생성\n",
    "language_prompt = PromptTemplate.from_template(language_template)\n",
    "\n",
    "# 체인 구성\n",
    "language_chain = language_prompt | llm | output_parser\n",
    "\n",
    "# 체인 실행 예시\n",
    "examples = [\n",
    "    \"What is the atomic number of carbon?\",\n",
    "    \"탄소의 원자 번호는 무엇인가요?\",\n",
    "    \"¿Cuál es el número atómico del carbono?\"\n",
    "]\n",
    "\n",
    "for example in examples:\n",
    "    result = language_chain.invoke({\"question\": example})\n",
    "    print(f\"입력: {example}\")\n",
    "    print(f\"분류 결과: {result}\\n\")"
   ]
  },
  {
   "cell_type": "markdown",
   "id": "b2443f46",
   "metadata": {},
   "source": [
    "`(3) RunnableParallel을 사용한 병렬 실행 체인`"
   ]
  },
  {
   "cell_type": "code",
   "execution_count": null,
   "id": "5adb0643",
   "metadata": {},
   "outputs": [
    {
     "ename": "NameError",
     "evalue": "name 'question_chain' is not defined",
     "output_type": "error",
     "traceback": [
      "\u001b[0;31m---------------------------------------------------------------------------\u001b[0m\n",
      "\u001b[0;31mNameError\u001b[0m                                 Traceback (most recent call last)\n",
      "Cell \u001b[0;32mIn[21], line 19\u001b[0m\n",
      "\u001b[1;32m     15\u001b[0m output_parser \u001b[38;5;241m=\u001b[39m StrOutputParser()\n",
      "\u001b[1;32m     17\u001b[0m \u001b[38;5;66;03m# 병렬 처리 체인 구성\u001b[39;00m\n",
      "\u001b[1;32m     18\u001b[0m answer_chain \u001b[38;5;241m=\u001b[39m RunnableParallel({\n",
      "\u001b[0;32m---> 19\u001b[0m     \u001b[38;5;124m\"\u001b[39m\u001b[38;5;124mtopic\u001b[39m\u001b[38;5;124m\"\u001b[39m: \u001b[43mquestion_chain\u001b[49m,            \u001b[38;5;66;03m# 주제 분류 체인\u001b[39;00m\n",
      "\u001b[1;32m     20\u001b[0m     \u001b[38;5;124m\"\u001b[39m\u001b[38;5;124mlanguage\u001b[39m\u001b[38;5;124m\"\u001b[39m: language_chain,         \u001b[38;5;66;03m# 언어 감지 체인\u001b[39;00m\n",
      "\u001b[1;32m     21\u001b[0m     \u001b[38;5;124m\"\u001b[39m\u001b[38;5;124mquestion\u001b[39m\u001b[38;5;124m\"\u001b[39m: itemgetter(\u001b[38;5;124m\"\u001b[39m\u001b[38;5;124mquestion\u001b[39m\u001b[38;5;124m\"\u001b[39m)  \u001b[38;5;66;03m# 원본 질문 추출\u001b[39;00m\n",
      "\u001b[1;32m     22\u001b[0m }) \u001b[38;5;241m|\u001b[39m answer_prompt \u001b[38;5;241m|\u001b[39m llm \u001b[38;5;241m|\u001b[39m output_parser\n",
      "\u001b[1;32m     24\u001b[0m \u001b[38;5;66;03m# 체인 실행 예시\u001b[39;00m\n",
      "\u001b[1;32m     25\u001b[0m result \u001b[38;5;241m=\u001b[39m answer_chain\u001b[38;5;241m.\u001b[39minvoke({\n",
      "\u001b[1;32m     26\u001b[0m     \u001b[38;5;124m\"\u001b[39m\u001b[38;5;124mquestion\u001b[39m\u001b[38;5;124m\"\u001b[39m: \u001b[38;5;124m\"\u001b[39m\u001b[38;5;124m탄소의 원자 번호는 무엇인가요?\u001b[39m\u001b[38;5;124m\"\u001b[39m\n",
      "\u001b[1;32m     27\u001b[0m })\n",
      "\n",
      "\u001b[0;31mNameError\u001b[0m: name 'question_chain' is not defined"
     ]
    }
   ],
   "source": [
    "# 질문과 관련된 분야를 찾아서 질문에 대한 답변을 생성하는 프롬프트\n",
    "from langchain_core.prompts import PromptTemplate\n",
    "from langchain_core.runnables import RunnableParallel\n",
    "from langchain_core.output_parsers import StrOutputParser\n",
    "from operator import itemgetter\n",
    "\n",
    "# 답변 템플릿 정의\n",
    "answer_template = \"\"\"\n",
    "당신은 {topic} 분야의 전문가입니다. {topic}에 관한 질문에 {language}로 답변해주세요.\n",
    "질문: {question}\n",
    "답변: \"\"\"\n",
    "\n",
    "# 프롬프트 및 체인 구성\n",
    "answer_prompt = PromptTemplate.from_template(answer_template)\n",
    "output_parser = StrOutputParser()\n",
    "\n",
    "# 병렬 처리 체인 구성\n",
    "answer_chain = RunnableParallel({\n",
    "    \"topic\": question_chain,            # 주제 분류 체인\n",
    "    \"language\": language_chain,         # 언어 감지 체인\n",
    "    \"question\": itemgetter(\"question\")  # 원본 질문 추출\n",
    "}) | answer_prompt | llm | output_parser\n",
    "\n",
    "# 체인 실행 예시\n",
    "result = answer_chain.invoke({\n",
    "    \"question\": \"탄소의 원자 번호는 무엇인가요?\"\n",
    "})\n",
    "\n",
    "print(\"처리 결과:\")\n",
    "print(f\"답변: {result}\")"
   ]
  },
  {
   "cell_type": "markdown",
   "id": "c1f1d414",
   "metadata": {},
   "source": [
    "![Langfuse Screenshot](https://raw.githubusercontent.com/tsdata/image_files/main/202505/langfuse_screenshot_0005.png)"
   ]
  },
  {
   "cell_type": "markdown",
   "id": "2de0510f",
   "metadata": {},
   "source": [
    "#### 3) **RunnablePassthrough**\n",
    "\n",
    "- **RunnablePassthrough**는 입력값을 그대로 전달하여 원본 데이터를 보존합니다\n",
    "\n",
    "- **RunnableParallel**과 함께 사용되어 입력 데이터를 새로운 키로 매핑할 수 있습니다\n",
    "\n",
    "- **투명한 데이터 흐름**으로 파이프라인 디버깅과 구성이 용이합니다"
   ]
  },
  {
   "cell_type": "code",
   "execution_count": null,
   "id": "48816f2b",
   "metadata": {},
   "outputs": [
    {
     "ename": "NameError",
     "evalue": "name 'RunnableParallel' is not defined",
     "output_type": "error",
     "traceback": [
      "\u001b[0;31m---------------------------------------------------------------------------\u001b[0m\n",
      "\u001b[0;31mNameError\u001b[0m                                 Traceback (most recent call last)\n",
      "Cell \u001b[0;32mIn[20], line 4\u001b[0m\n",
      "\u001b[1;32m      1\u001b[0m \u001b[38;5;28;01mfrom\u001b[39;00m\u001b[38;5;250m \u001b[39m\u001b[38;5;21;01mlangchain_core\u001b[39;00m\u001b[38;5;21;01m.\u001b[39;00m\u001b[38;5;21;01mrunnables\u001b[39;00m\u001b[38;5;250m \u001b[39m\u001b[38;5;28;01mimport\u001b[39;00m RunnablePassthrough\n",
      "\u001b[1;32m      2\u001b[0m \u001b[38;5;28;01mimport\u001b[39;00m\u001b[38;5;250m \u001b[39m\u001b[38;5;21;01mre\u001b[39;00m\n",
      "\u001b[0;32m----> 4\u001b[0m runnable \u001b[38;5;241m=\u001b[39m \u001b[43mRunnableParallel\u001b[49m(\n",
      "\u001b[1;32m      5\u001b[0m     passed\u001b[38;5;241m=\u001b[39mRunnablePassthrough(),\n",
      "\u001b[1;32m      6\u001b[0m     modified\u001b[38;5;241m=\u001b[39m\u001b[38;5;28;01mlambda\u001b[39;00m x: \u001b[38;5;28mint\u001b[39m(re\u001b[38;5;241m.\u001b[39msearch(\u001b[38;5;124mr\u001b[39m\u001b[38;5;124m'\u001b[39m\u001b[38;5;124m\\\u001b[39m\u001b[38;5;124md+\u001b[39m\u001b[38;5;124m'\u001b[39m, x[\u001b[38;5;124m\"\u001b[39m\u001b[38;5;124mquery\u001b[39m\u001b[38;5;124m\"\u001b[39m])\u001b[38;5;241m.\u001b[39mgroup()),\n",
      "\u001b[1;32m      7\u001b[0m )\n",
      "\u001b[1;32m      9\u001b[0m runnable\u001b[38;5;241m.\u001b[39minvoke({\u001b[38;5;124m\"\u001b[39m\u001b[38;5;124mquery\u001b[39m\u001b[38;5;124m\"\u001b[39m: \u001b[38;5;124m'\u001b[39m\u001b[38;5;124m탄소의 원자 번호는 6입니다.\u001b[39m\u001b[38;5;124m'\u001b[39m})\n",
      "\n",
      "\u001b[0;31mNameError\u001b[0m: name 'RunnableParallel' is not defined"
     ]
    }
   ],
   "source": [
    "from langchain_core.runnables import RunnablePassthrough\n",
    "import re\n",
    "\n",
    "runnable = RunnableParallel(\n",
    "    passed=RunnablePassthrough(),\n",
    "    modified=lambda x: int(re.search(r'\\d+', x[\"query\"]).group()),\n",
    ")\n",
    "\n",
    "runnable.invoke({\"query\": '탄소의 원자 번호는 6입니다.'})"
   ]
  },
  {
   "cell_type": "code",
   "execution_count": null,
   "id": "78e55221",
   "metadata": {},
   "outputs": [],
   "source": [
    "runnable = RunnableParallel(\n",
    "    passed=RunnablePassthrough(),\n",
    "    modified=lambda x: int(re.search(r'\\d+', x).group()),\n",
    ")\n",
    "\n",
    "runnable.invoke('탄소의 원자 번호는 6입니다.')"
   ]
  },
  {
   "cell_type": "markdown",
   "id": "2aa89dea",
   "metadata": {},
   "source": [
    "#### 4) **RunnableLambda**\n",
    "\n",
    "- **RunnableLambda**는 일반 함수를 Runnable 객체로 변환하는 래퍼 컴포넌트입니다\n",
    "\n",
    "- 체인에 **커스텀 로직**을 쉽게 통합할 수 있어 데이터 전처리, 후처리에 유용합니다\n",
    "\n",
    "- `|` 연산자로 다른 컴포넌트들과 연결해 **복잡한 처리 흐름**을 구성할 수 있습니다"
   ]
  },
  {
   "cell_type": "code",
   "execution_count": null,
   "id": "c21ecf60",
   "metadata": {},
   "outputs": [],
   "source": [
    "import re\n",
    "from langchain_core.runnables import RunnableLambda, RunnablePassthrough\n",
    "\n",
    "# 텍스트에서 숫자를 추출하는 함수\n",
    "def extract_number(query):\n",
    "    return int(re.search(r'\\d+', query).group())\n",
    "\n",
    "# RunnablePassthrough로 입력을 그대로 전달하고, RunnableLambda로 숫자 추출 함수 실행\n",
    "runnable = RunnablePassthrough() | RunnableLambda(extract_number)\n",
    "\n",
    "# 입력 텍스트에서 6을 추출\n",
    "result = runnable.invoke('탄소의 원자 번호는 6입니다.')\n",
    "print(result)  # 출력: 6"
   ]
  },
  {
   "cell_type": "code",
   "execution_count": null,
   "id": "c35febb3",
   "metadata": {},
   "outputs": [],
   "source": [
    "from langchain.schema.runnable import RunnableLambda\n",
    "from langchain.prompts import ChatPromptTemplate\n",
    "\n",
    "# 데이터 전처리 함수 정의\n",
    "def preprocess_text(text: str) -> str:\n",
    "    \"\"\" 입력 텍스트를 소문자로 변환하고 양쪽 공백을 제거합니다. \"\"\"\n",
    "    return text.strip().lower()\n",
    "\n",
    "# 후처리 함수 정의\n",
    "def postprocess_response(response: str) -> dict:\n",
    "    \"\"\" 응답 텍스트를 대문자로 변환하고 길이를 계산합니다. \"\"\"\n",
    "    response_text = response.content\n",
    "    return {\n",
    "        \"processed_response\": response_text.upper(),\n",
    "        \"length\": len(response_text)\n",
    "    }\n",
    "\n",
    "# 프롬프트 템플릿 생성\n",
    "prompt = ChatPromptTemplate.from_template(\"다음 주제에 대해 영어 한 문장으로 설명해주세요: {topic}\")\n",
    "\n",
    "# 처리 파이프라인 구성\n",
    "chain = (\n",
    "    RunnableLambda(preprocess_text) |  # 입력 전처리\n",
    "    prompt |                           # 프롬프트 포맷팅\n",
    "    llm |                              # LLM 추론\n",
    "    RunnableLambda(postprocess_response)  # 출력 후처리\n",
    ")\n",
    "\n",
    "# 체인 실행\n",
    "result = chain.invoke(\"  Artificial Intelligence  \")\n",
    "print(f\"처리된 응답: {result['processed_response']}\")\n",
    "print(f\"응답 길이: {result['length']}\")"
   ]
  },
  {
   "cell_type": "markdown",
   "id": "59b3c0a9",
   "metadata": {},
   "source": [
    "![Langfuse Screenshot](https://raw.githubusercontent.com/tsdata/image_files/main/202505/langfuse_screenshot_0006.png)"
   ]
  },
  {
   "cell_type": "markdown",
   "id": "54cc3e68",
   "metadata": {},
   "source": [
    "---\n",
    "# [실습]"
   ]
  },
  {
   "cell_type": "markdown",
   "id": "fa22f478",
   "metadata": {},
   "source": [
    "- **다음과 같은 요구사항을 LCEL로 구현합니다**\n",
    "   1. 사용자 입력을 받아 내용을 요약하기\n",
    "   2. 요약된 내용을 기반으로 감정 분석하기 (긍정, 부정, 중립)\n",
    "   3. 요약된 문장과 감정 분석 결과를 출력하기 "
   ]
  },
  {
   "cell_type": "code",
   "execution_count": null,
   "id": "0bef5993",
   "metadata": {},
   "outputs": [],
   "source": [
    "from langchain_core.prompts import PromptTemplate\n",
    "from langchain_openai import ChatOpenAI\n",
    "from langchain_core.output_parsers import StrOutputParser\n",
    "\n",
    "# 프롬프트 템플릿 정의\n",
    "summarize_prompt = None\n",
    "\n",
    "sentiment_prompt = None\n",
    "\n",
    "# 문자열 출력 파서\n",
    "output_parser = None\n",
    "\n",
    "# 체인 구성\n",
    "model = None\n",
    "\n",
    "# 요약 체인\n",
    "summarize_chain = None\n",
    "\n",
    "# 감정 분석 체인\n",
    "sentiment_chain = None\n",
    "\n",
    "# 전체 체인\n",
    "chain = None\n",
    "\n",
    "# 사용 예시\n",
    "text = \"\"\"오늘 아침 일어나서 시험 준비를 위해 마지막으로 복습을 했다. \n",
    "시험장에 들어가서 문제를 풀 때는 긴장했지만, 평소에 열심히 공부했던 내용들이 잘 기억났다.\n",
    "시험 시간이 끝나고 답안지를 제출할 때는 자신감이 있었다.\n",
    "결과를 확인했을 때 만점을 받았다는 것을 알게 되었고, 그 순간 정말 기뻤다.\n",
    "지난 몇 주 동안 밤늦게까지 공부했던 노력이 결실을 맺은 것 같아 뿌듯했다.\n",
    "선생님께서도 칭찬해 주셔서 더욱 기쁘고 보람찼다.\n",
    "이번 경험을 통해 노력하면 반드시 좋은 결과가 따른다는 것을 다시 한번 깨달았다.\"\"\"\n",
    "\n",
    "result = None"
   ]
  },
  {
   "cell_type": "code",
   "execution_count": null,
   "id": "1b01cfc5",
   "metadata": {},
   "outputs": [],
   "source": [
    "from langchain_experimental.text_splitter import SemanticChunker \n",
    "from langchain_openai.embeddings import OpenAIEmbeddings\n",
    "\n",
    "# 임베딩 모델을 사용하여 SemanticChunker를 초기화 \n",
    "text_splitter = SemanticChunker(\n",
    "    embeddings=OpenAIEmbeddings(model=\"text-embedding-3-small\"),         # OpenAI 임베딩 사용\n",
    "    breakpoint_threshold_type=\"gradient\",  # 임계값 타입 설정 (gradient, percentile, standard_deviation, interquartile)\n",
    ")"
   ]
  },
  {
   "cell_type": "code",
   "execution_count": null,
   "id": "956587ae",
   "metadata": {},
   "outputs": [],
   "source": [
    "chunks = text_splitter.split_documents([pdf_docs[0]])\n",
    "\n",
    "print(f\"생성된 청크 수: {len(chunks)}\")\n",
    "print(f\"각 청크의 길이: {list(len(chunk.page_content) for chunk in chunks)}\")\n",
    "print()\n",
    "\n",
    "tokenizer = tiktoken.get_encoding(\"cl100k_base\")\n",
    "\n",
    "for chunk in chunks[:5]:\n",
    "\n",
    "    # 각 청크를 토큰화\n",
    "    tokens = tokenizer.encode(chunk.page_content)\n",
    "    # 각 청크의 단어 수 확인\n",
    "    print(len(tokens))\n",
    "    # 각 청크의 내용을 확인\n",
    "    print(chunk.page_content[:100])\n",
    "    print(\"=\" * 50)\n",
    "    print()"
   ]
  },
  {
   "cell_type": "markdown",
   "id": "8943d4bb",
   "metadata": {},
   "source": [
    "# 문서 임베딩(Document Embedding)\n",
    "\n",
    "- 개념: \n",
    "    - 텍스트를 벡터(숫자 배열)로 변환하는 과정\n",
    "    - 문서의 의미적 특성을 수치화하여 컴퓨터가 이해하고 처리할 수 있는 형태로 변환 \n",
    "\n",
    "- 목적:\n",
    "    - 텍스트 간 유사도 계산 가능\n",
    "    - 벡터 데이터베이스 저장 및 검색\n",
    "    - 의미 기반 문서 검색 구현\n",
    "\n",
    "- LangChain의 임베딩 모델 종류:\n",
    "    - OpenAI 임베딩\n",
    "    - HuggingFace 임베딩 "
   ]
  },
  {
   "cell_type": "markdown",
   "id": "1028fb3c",
   "metadata": {},
   "source": [
    "### 1. **OpenAI**\n",
    "\n",
    "- LangChain에서 가장 널리 사용되는 임베딩 모델 중 하나\n",
    "\n",
    "- 주요 특징:\n",
    "    1. 고품질의 임베딩 생성\n",
    "    2. 다양한 언어 지원 (다국어 지원)\n",
    "    3. 일관된 성능\n",
    "    4. 손쉬운 통합\n",
    "\n",
    "- 사용시 주의사항:\n",
    "    1. API 키 설정이 필요 (환경 변수 OPENAI_API_KEY)\n",
    "    2. API 사용량에 따른 비용 발생\n",
    "    3. 긴 텍스트는 자동으로 분할되지 않으므로 필요시 TextSplitter를 사용\n",
    "\n",
    "\n",
    "- 모델별 특징\n",
    "    ```\n",
    "    모델                    페이지/달러    MTEB 성능     최대입력\n",
    "    text-embedding-3-small  62,500       62.3%       8191\n",
    "    text-embedding-3-large   9,615       64.6%       8191\n",
    "    text-embedding-ada-002  12,500       61.0%       8191\n",
    "    ```\n",
    "\n",
    "- 임베딩 벡터 특성\n",
    "    1. small: 1536 차원\n",
    "    1. large: 3072 차원\n",
    "    1. dimensions 파라미터로 차원 축소 가능"
   ]
  },
  {
   "cell_type": "markdown",
   "id": "19d24267",
   "metadata": {},
   "source": [
    "`(1) embedding 모델`"
   ]
  },
  {
   "cell_type": "code",
   "execution_count": null,
   "id": "6e021e2e",
   "metadata": {},
   "outputs": [],
   "source": [
    "from langchain_openai import OpenAIEmbeddings\n",
    "\n",
    "# OpenAIEmbeddings 모델 생성\n",
    "embeddings_model = OpenAIEmbeddings(\n",
    "    model=\"text-embedding-3-large\",  # 사용할 모델 이름\n",
    "    dimensions=None, # 원하는 임베딩 차원 수를 지정 가능 (기본값: None)\n",
    "    )\n",
    "\n",
    "# 임베딩 객체 출력\n",
    "embeddings_model"
   ]
  },
  {
   "cell_type": "code",
   "execution_count": null,
   "id": "d1296c74",
   "metadata": {},
   "outputs": [],
   "source": [
    "# 임베딩 모델의 컨텍스트 길이 확인\n",
    "embeddings_model.embedding_ctx_length"
   ]
  },
  {
   "cell_type": "code",
   "execution_count": null,
   "id": "9e3cf77c",
   "metadata": {},
   "outputs": [],
   "source": [
    "from langchain_openai import OpenAIEmbeddings\n",
    "\n",
    "# OpenAIEmbeddings 모델 생성할 때 임베딩 차원을 지정하는 예시\n",
    "embeddings_openai = OpenAIEmbeddings(\n",
    "    model=\"text-embedding-3-small\",  # 사용할 모델 이름\n",
    "    dimensions=1024, # 원하는 임베딩 차원 수를 지정 가능 (기본값: None)\n",
    "    )\n",
    "\n",
    "# 임베딩 모델의 임베딩 차원 확인 \n",
    "embeddings_openai.dimensions"
   ]
  },
  {
   "cell_type": "markdown",
   "id": "f1ed077e",
   "metadata": {},
   "source": [
    "`(2) embed_documents 사용`"
   ]
  },
  {
   "cell_type": "code",
   "execution_count": null,
   "id": "979cefee",
   "metadata": {},
   "outputs": [],
   "source": [
    "# 문서 컬렉션\n",
    "documents = [\n",
    "    \"인공지능은 컴퓨터 과학의 한 분야입니다.\",\n",
    "    \"머신러닝은 인공지능의 하위 분야입니다.\",\n",
    "    \"딥러닝은 머신러닝의 한 종류입니다.\",\n",
    "    \"자연어 처리는 컴퓨터가 인간의 언어를 이해하고 생성하는 기술입니다.\",\n",
    "    \"컴퓨터 비전은 컴퓨터가 디지털 이미지나 비디오를 이해하는 방법을 연구합니다.\"\n",
    "]\n",
    "\n",
    "# 문서 임베딩\n",
    "document_embeddings_openai = embeddings_openai.embed_documents(documents)\n",
    "\n",
    "# 임베딩 결과 출력\n",
    "print(f\"임베딩 벡터의 개수: {len(document_embeddings_openai)}\")\n",
    "print(f\"임베딩 벡터의 차원: {len(document_embeddings_openai[0])}\")\n",
    "print(document_embeddings_openai[0])"
   ]
  },
  {
   "cell_type": "markdown",
   "id": "6adef264",
   "metadata": {},
   "source": [
    "`(3) embed_query 사용`"
   ]
  },
  {
   "cell_type": "code",
   "execution_count": null,
   "id": "668fd5b5",
   "metadata": {},
   "outputs": [],
   "source": [
    "embedded_query_openai = embeddings_openai.embed_query(\"인공지능이란 무엇인가요?\")\n",
    "\n",
    "# 쿼리 임베딩 결과 출력\n",
    "print(f\"쿼리 임베딩 벡터의 차원: {len(embedded_query_openai)}\")\n",
    "print(embedded_query_openai)"
   ]
  },
  {
   "cell_type": "markdown",
   "id": "da63d0f4",
   "metadata": {},
   "source": [
    "`(4) 유사도 기반 검색`"
   ]
  },
  {
   "cell_type": "code",
   "execution_count": null,
   "id": "7029f9f1",
   "metadata": {},
   "outputs": [],
   "source": [
    "from langchain_community.utils.math import cosine_similarity\n",
    "import numpy as np\n",
    "\n",
    "# 쿼리와 가장 유사한 문서 찾기 함수\n",
    "def find_most_similar(\n",
    "        query: str, \n",
    "        doc_embeddings: np.ndarray,\n",
    "        embeddings_model=OpenAIEmbeddings(model=\"text-embedding-3-small\")\n",
    "        ) -> tuple[str, float]:\n",
    "    \n",
    "    # 쿼리 임베딩: OpenAI 임베딩 사용 \n",
    "    query_embedding = embeddings_model.embed_query(query)\n",
    "\n",
    "    # 코사인 유사도 계산\n",
    "    similarities = cosine_similarity([query_embedding], doc_embeddings)[0]\n",
    "\n",
    "    # 가장 유사한 문서 인덱스 찾기\n",
    "    most_similar_idx = np.argmax(similarities)\n",
    "\n",
    "    # 가장 유사한 문서와 유사도 반환: 문서, 유사도\n",
    "    return documents[most_similar_idx], similarities[most_similar_idx]\n",
    "\n",
    "# 예제 쿼리\n",
    "queries = [\n",
    "    \"인공지능이란 무엇인가요?\",\n",
    "    \"딥러닝과 머신러닝의 관계는 어떻게 되나요?\",\n",
    "    \"컴퓨터가 이미지를 이해하는 방법은?\"\n",
    "]\n",
    "\n",
    "# 각 쿼리에 대해 가장 유사한 문서 찾기\n",
    "for query in queries:\n",
    "    most_similar_doc, similarity = find_most_similar(\n",
    "        query, \n",
    "        document_embeddings_openai, \n",
    "        embeddings_model=embeddings_openai\n",
    "        )\n",
    "    print(f\"쿼리: {query}\")\n",
    "    print(f\"가장 유사한 문서: {most_similar_doc}\")\n",
    "    print(f\"유사도: {similarity:.4f}\")\n",
    "    print()"
   ]
  },
  {
   "cell_type": "markdown",
   "id": "87c841a4",
   "metadata": {},
   "source": [
    "### 2. **Huggingface**\n",
    "\n",
    "- LangChain에서 오픈소스 기반의 대표적인 임베딩 모델\n",
    "\n",
    "- 주요 특징:\n",
    "    1. 로컬 환경에서 실행 가능\n",
    "    2. 다양한 사전학습 모델 지원\n",
    "    3. 커스텀 모델 학습 및 적용 가능\n",
    "    4. 무료 사용 가능 (API 비용 없음)\n",
    "\n",
    "- 사용시 주의사항:\n",
    "    1. 로컬 컴퓨팅 자원 필요 (CPU/GPU)\n",
    "    2. 초기 모델 다운로드 시간 소요\n",
    "    3. 메모리 사용량 고려 필요\n",
    "    4. transformers 라이브러리 설치 필요\n",
    "\n",
    "- 대표적인 임베딩 모델:\n",
    "    ```\n",
    "    모델                            차원      언어             특징      \n",
    "    all-MiniLM-L6-v2               384     다국어     빠른 속도, 적은 메모리\n",
    "    all-mpnet-base-v2              768     다국어     높은 성능, 중간 크기\n",
    "    multilingual-e5-large         1024     다국어     최고 성능, 큰 메모리\n",
    "    ```\n",
    "\n",
    "- 임베딩 벡터 특성:\n",
    "    1. 모델별로 다양한 차원 제공 (128 ~ 1024)\n",
    "    2. sentence-transformers 기반 구현\n",
    "    3. BERT 계열 모델 구조 사용\n",
    "    4. 코사인 유사도 기반 검색 최적화"
   ]
  },
  {
   "cell_type": "markdown",
   "id": "484e59a6",
   "metadata": {},
   "source": [
    "`(1) embedding 모델`\n",
    "\n",
    "- langchain_huggingface 설치 필요"
   ]
  },
  {
   "cell_type": "code",
   "execution_count": null,
   "id": "d6bae91c",
   "metadata": {},
   "outputs": [],
   "source": [
    "from langchain_huggingface.embeddings import HuggingFaceEmbeddings  \n",
    "\n",
    "# Hugging Face의 임베딩 모델 생성\n",
    "embeddings_bgem3 = HuggingFaceEmbeddings(\n",
    "    model_name=\"BAAI/bge-m3\",          # 사용할 모델 이름 - BAAI BGE-m3 모델 (한국어 성능 우수)\n",
    "    # model_kwargs={'device': 'cuda'}  # GPU 사용시\n",
    "    # model_kwargs={'device': 'mps'}   # Mac M1 사용시\n",
    ")\n",
    "\n",
    "# 임베딩 객체 출력\n",
    "embeddings_bgem3"
   ]
  },
  {
   "cell_type": "markdown",
   "id": "63a5304f",
   "metadata": {},
   "source": [
    "`(2) embed_documents 사용`"
   ]
  },
  {
   "cell_type": "code",
   "execution_count": null,
   "id": "e3645498",
   "metadata": {},
   "outputs": [],
   "source": [
    "# 문서 임베딩\n",
    "document_embeddings_bgem3 = embeddings_bgem3.embed_documents(documents)\n",
    "\n",
    "# 임베딩 결과 출력\n",
    "print(f\"임베딩 벡터의 개수: {len(document_embeddings_bgem3)}\")\n",
    "print(f\"임베딩 벡터의 차원: {len(document_embeddings_bgem3[0])}\")\n",
    "print(document_embeddings_bgem3[0])"
   ]
  },
  {
   "cell_type": "markdown",
   "id": "447c8889",
   "metadata": {},
   "source": [
    "`(3) embed_query 사용`"
   ]
  },
  {
   "cell_type": "code",
   "execution_count": null,
   "id": "7cbc1b43",
   "metadata": {},
   "outputs": [],
   "source": [
    "embedded_query = embeddings_bgem3.embed_query(\"인공지능이란 무엇인가요?\")\n",
    "\n",
    "# 쿼리 임베딩 결과 출력\n",
    "print(f\"쿼리 임베딩 벡터의 차원: {len(embedded_query)}\")\n",
    "print(embedded_query)"
   ]
  },
  {
   "cell_type": "markdown",
   "id": "62990788",
   "metadata": {},
   "source": [
    "`(4) 유사도 기반 검색`"
   ]
  },
  {
   "cell_type": "code",
   "execution_count": null,
   "id": "8476a423",
   "metadata": {},
   "outputs": [],
   "source": [
    "# 예제 쿼리\n",
    "queries = [\n",
    "    \"인공지능이란 무엇인가요?\",\n",
    "    \"딥러닝과 머신러닝의 관계는 어떻게 되나요?\",\n",
    "    \"컴퓨터가 이미지를 이해하는 방법은?\"\n",
    "]\n",
    "\n",
    "# 각 쿼리에 대해 가장 유사한 문서 찾기\n",
    "for query in queries:\n",
    "    most_similar_doc, similarity = find_most_similar(query, document_embeddings_bgem3, embeddings_model=embeddings_bgem3) \n",
    "    print(f\"쿼리: {query}\")\n",
    "    print(f\"가장 유사한 문서: {most_similar_doc}\")\n",
    "    print(f\"유사도: {similarity:.4f}\")\n",
    "    print()"
   ]
  },
  {
   "cell_type": "markdown",
   "id": "36aeea6b",
   "metadata": {},
   "source": [
    "### 3. **Ollama**\n",
    "\n",
    "- LangChain에서 로컬 실행에 최적화된 경량 임베딩 모델\n",
    "\n",
    "- 주요 특징:\n",
    "    1. 완전한 로컬 실행 환경 제공\n",
    "    2. 빠른 추론 속도\n",
    "    3. 간단한 설치 및 실행 과정\n",
    "    4. Docker 기반 손쉬운 배포\n",
    "\n",
    "- 사용시 주의사항:\n",
    "    1. Ollama 서버 실행 필요\n",
    "    2. 모델별 시스템 요구사항 확인\n",
    "    3. API 엔드포인트 설정 필요\n",
    "    4. 동시 요청 처리량 고려\n",
    "\n",
    "- 대표적인 임베딩 모델:\n",
    "    ```\n",
    "    모델                차원       언어        특징\n",
    "    llama2              4096      영어       범용성 높은 기본 모델\n",
    "    nomic-embed-text    768       영어       경량화된 고성능 모델\n",
    "    codellama          2048       다국어     코드 특화 임베딩\n",
    "    ```\n",
    "\n",
    "- 임베딩 벡터 특성:\n",
    "    1. 모델별 고정 차원 사용\n",
    "    2. 최적화된 양자화 지원\n",
    "    3. 배치 처리 최적화"
   ]
  },
  {
   "cell_type": "markdown",
   "id": "54b36e5a",
   "metadata": {},
   "source": [
    "`(1) embedding 모델`\n",
    "\n",
    "- langchain_ollama 설치 필요"
   ]
  },
  {
   "cell_type": "code",
   "execution_count": null,
   "id": "3b86cf30",
   "metadata": {},
   "outputs": [],
   "source": [
    "from langchain_ollama import OllamaEmbeddings \n",
    "\n",
    "# OllamaEmbeddings 모델 생성\n",
    "# embeddings_ollama = OllamaEmbeddings(\n",
    "#     model=\"nomic-embed-text\",          # 사용할 모델 이름\n",
    "#     base_url=\"http://localhost:11434\"  # Ollama 서버 주소\n",
    "# )\n",
    "embeddings_ollama = OllamaEmbeddings(model=\"bge-m3\")\n",
    "\n",
    "# 임베딩 객체 출력\n",
    "embeddings_ollama"
   ]
  },
  {
   "cell_type": "markdown",
   "id": "e70b54cb",
   "metadata": {},
   "source": [
    "`(2) embed_documents 사용`"
   ]
  },
  {
   "cell_type": "code",
   "execution_count": null,
   "id": "bf52f1fa",
   "metadata": {},
   "outputs": [],
   "source": [
    "# 문서 컬렉션\n",
    "documents = [\n",
    "    \"인공지능은 컴퓨터 과학의 한 분야입니다.\",\n",
    "    \"머신러닝은 인공지능의 하위 분야입니다.\",\n",
    "    \"딥러닝은 머신러닝의 한 종류입니다.\",\n",
    "    \"자연어 처리는 컴퓨터가 인간의 언어를 이해하고 생성하는 기술입니다.\",\n",
    "    \"컴퓨터 비전은 컴퓨터가 디지털 이미지나 비디오를 이해하는 방법을 연구합니다.\"\n",
    "]\n",
    "\n",
    "# 문서 임베딩\n",
    "document_embeddings_ollama = embeddings_ollama.embed_documents(documents)\n",
    "\n",
    "# 임베딩 결과 출력\n",
    "print(f\"임베딩 벡터의 개수: {len(document_embeddings_ollama)}\")\n",
    "print(f\"임베딩 벡터의 차원: {len(document_embeddings_ollama[0])}\")\n",
    "print(document_embeddings_ollama[0])"
   ]
  },
  {
   "cell_type": "markdown",
   "id": "0e637cb4",
   "metadata": {},
   "source": [
    "`(3) embed_query 사용`"
   ]
  },
  {
   "cell_type": "code",
   "execution_count": null,
   "id": "54504e7f",
   "metadata": {},
   "outputs": [],
   "source": [
    "embedded_query = embeddings_ollama.embed_query(\"인공지능이란 무엇인가요?\")\n",
    "\n",
    "# 쿼리 임베딩 결과 출력\n",
    "print(f\"쿼리 임베딩 벡터의 차원: {len(embedded_query)}\")\n",
    "print(embedded_query)"
   ]
  },
  {
   "cell_type": "markdown",
   "id": "88021a49",
   "metadata": {},
   "source": [
    "`(4) 유사도 기반 검색`"
   ]
  },
  {
   "cell_type": "code",
   "execution_count": null,
   "id": "6a671a10",
   "metadata": {},
   "outputs": [],
   "source": [
    "# 예제 쿼리\n",
    "queries = [\n",
    "    \"인공지능이란 무엇인가요?\",\n",
    "    \"딥러닝과 머신러닝의 관계는 어떻게 되나요?\",\n",
    "    \"컴퓨터가 이미지를 이해하는 방법은?\"\n",
    "]\n",
    "\n",
    "# 각 쿼리에 대해 가장 유사한 문서 찾기\n",
    "for query in queries:\n",
    "    most_similar_doc, similarity = find_most_similar(query, document_embeddings_ollama, embeddings_model=embeddings_ollama) \n",
    "    print(f\"쿼리: {query}\")\n",
    "    print(f\"가장 유사한 문서: {most_similar_doc}\")\n",
    "    print(f\"유사도: {similarity:.4f}\")\n",
    "    print()"
   ]
  },
  {
   "cell_type": "markdown",
   "id": "a8edee46",
   "metadata": {},
   "source": [
    "# 벡터 저장소 (Vector Store)\n",
    "\n",
    "- 개념:\n",
    "    - 벡터화된 데이터를 효율적으로 저장하고 검색하기 위한 특수 데이터베이스 시스템\n",
    "    - 텍스트나 이미지 등의 비정형 데이터를 고차원 벡터 공간에 매핑하여 저장\n",
    "    - 유사도 기반 검색을 통해 의미적으로 가까운 데이터를 빠르게 검색 가능 \n",
    "\n",
    "- LangChain의 벡터 저장소 종류:\n",
    "    - **Chroma**: 경량화된 임베딩 데이터베이스로 로컬 개발에 적합\n",
    "    - **FAISS**: Facebook AI가 개발한 고성능 유사도 검색 라이브러리\n",
    "    - **Pinecone**: 완전 관리형 벡터 데이터베이스 서비스\n",
    "    - Milvus: 분산 벡터 데이터베이스로 대규모 데이터 처리에 적합\n",
    "    - PostgreSQL: pgvector 확장을 통해 벡터 저장 및 검색 기능을 제공\n",
    "\n",
    "- 주요 기능:\n",
    "    - 벡터 색인화: 효율적인 검색을 위한 데이터 구조화를 수행\n",
    "    - 근접 이웃 검색: 주어진 쿼리와 가장 유사한 벡터들을 검색 \n",
    "    - 메타데이터 관리: 벡터와 관련된 부가 정보를 함께 저장하고 검색\n",
    "\n",
    "- 사용 사례:\n",
    "    - 시맨틱 문서 검색: 문서의 의미를 이해하여 검색\n",
    "    - 추천 시스템: 유사한 아이템을 추천\n",
    "    - 중복 데이터 감지: 유사한 콘텐츠를 검색 \n",
    "    - 질의응답 시스템: 관련 문서에서 답변을 생성하는데 필요한 근거를 검색 "
   ]
  },
  {
   "cell_type": "markdown",
   "id": "6f8fed68",
   "metadata": {},
   "source": [
    "### **Chroma**\n",
    "\n",
    "- 사용자 편의성이 우수한 오픈소스 벡터 저장소\n",
    "- `langchain-chroma` 패키지 설치"
   ]
  },
  {
   "cell_type": "markdown",
   "id": "c0f7da6e",
   "metadata": {},
   "source": [
    "`(1) 벡터 저장소 초기화`"
   ]
  },
  {
   "cell_type": "code",
   "execution_count": 12,
   "id": "ebb3bea0",
   "metadata": {},
   "outputs": [
    {
     "name": "stdout",
     "output_type": "stream",
     "text": [
      "PDF 문서 개수: 20\n"
     ]
    },
    {
     "data": {
      "text/plain": [
       "20"
      ]
     },
     "execution_count": 12,
     "metadata": {},
     "output_type": "execute_result"
    }
   ],
   "source": [
    "from langchain_community.document_loaders import PyPDFLoader\n",
    "\n",
    "# PDF 로더 초기화 (근로기준법 문서)\n",
    "pdf_loader = PyPDFLoader('../data/labor_law.pdf')\n",
    "\n",
    "# 동기 로딩\n",
    "pdf_docs = pdf_loader.load()\n",
    "print(f'PDF 문서 개수: {len(pdf_docs)}')\n",
    "\n",
    "len(pdf_docs)"
   ]
  },
  {
   "cell_type": "code",
   "execution_count": 13,
   "id": "fffc0d7a",
   "metadata": {},
   "outputs": [
    {
     "name": "stdout",
     "output_type": "stream",
     "text": [
      "생성된 청크 수: 95\n",
      "각 청크의 길이: [620, 476, 473, 468, 99, 627, 459, 517, 358, 607, 478, 472, 517, 387, 631, 541, 501, 474, 204, 558, 463, 459, 535, 432, 583, 497, 488, 463, 209, 609, 477, 504, 459, 512, 612, 483, 491, 476, 168, 633, 501, 471, 502, 193, 655, 509, 488, 465, 472, 637, 508, 493, 331, 589, 481, 537, 545, 496, 89, 593, 448, 473, 511, 318, 660, 528, 536, 505, 204, 624, 522, 489, 509, 129, 595, 485, 542, 530, 630, 482, 493, 379, 573, 511, 467, 196, 557, 494, 570, 550, 151, 671, 574, 480, 274]\n",
      "법제처                                                            1                                    ... 제1장 총칙\n",
      " \n",
      "제1조(목적) 이 법은 헌법에 따라 근로조건의 기준을 정함으로써 근로자의 기본적 생활을 보장, 향상시키며 균형 있는\n",
      "국민경제의 발전을 꾀하는 것을 목적으로 한다.\n",
      "====================================================================================================\n",
      "제1조(목적) 이 법은 헌법에 따라 근로조건의 기준을 정함으로써 근로자의 기본적 생활을 보장, 향상시키며 균형 있는\n",
      "국민경제의 발전을 꾀하는 것을 목적으로 한다.\n",
      " \n",
      "제2조(정의)...임금을 지급하는 것을 목적으로 체\n",
      "결된 계약을 말한다.\n",
      "5. “임금”이란 사용자가 근로의 대가로 근로자에게 임금, 봉급, 그 밖에 어떠한 명칭으로든지 지급하는 모든 금품을\n",
      "말한다.\n",
      "====================================================================================================\n",
      "결된 계약을 말한다.\n",
      "5. “임금”이란 사용자가 근로의 대가로 근로자에게 임금, 봉급, 그 밖에 어떠한 명칭으로든지 지급하는 모든 금품을\n",
      "말한다.\n",
      "6. “평균임금”이란 이를 산정하...는 통상 근로자의 1주\n",
      "동안의 소정근로시간에 비하여 짧은 근로자를 말한다.\n",
      "② 제1항제6호에 따라 산출된 금액이 그 근로자의 통상임금보다 적으면 그 통상임금액을 평균임금으로 한다.\n",
      "====================================================================================================\n",
      "동안의 소정근로시간에 비하여 짧은 근로자를 말한다.\n",
      "② 제1항제6호에 따라 산출된 금액이 그 근로자의 통상임금보다 적으면 그 통상임금액을 평균임금으로 한다.\n",
      " \n",
      "제3조(근로조건의 ...을 이유로 근로조건에 대한 차별적 처우를 하지 못한다.\n",
      " \n",
      "제7조(강제 근로의 금지) 사용자는 폭행, 협박, 감금, 그 밖에 정신상 또는 신체상의 자유를 부당하게 구속하는 수단으로\n",
      "====================================================================================================\n",
      "제7조(강제 근로의 금지) 사용자는 폭행, 협박, 감금, 그 밖에 정신상 또는 신체상의 자유를 부당하게 구속하는 수단으로\n",
      "써 근로자의 자유의사에 어긋나는 근로를 강요하지 못한다....제7조(강제 근로의 금지) 사용자는 폭행, 협박, 감금, 그 밖에 정신상 또는 신체상의 자유를 부당하게 구속하는 수단으로\n",
      "써 근로자의 자유의사에 어긋나는 근로를 강요하지 못한다.\n",
      "====================================================================================================\n"
     ]
    }
   ],
   "source": [
    "from langchain_text_splitters import RecursiveCharacterTextSplitter\n",
    "\n",
    "# TikToken 인코더를 사용하여 재귀적 텍스트 분할기 초기화 (토큰 수 기준 분할)\n",
    "text_splitter = RecursiveCharacterTextSplitter.from_tiktoken_encoder(\n",
    "    encoding_name=\"cl100k_base\", \n",
    "    chunk_size=500, \n",
    "    chunk_overlap=100,\n",
    ")\n",
    "\n",
    "# split_documents() 메서드 사용 : Document 객체를 여러 개의 작은 청크 문서로 분할\n",
    "chunks = text_splitter.split_documents(pdf_docs) \n",
    "\n",
    "print(f\"생성된 청크 수: {len(chunks)}\")\n",
    "print(f\"각 청크의 길이: {list(len(chunk.page_content) for chunk in chunks)}\")\n",
    "\n",
    "# 각 청크의 시작 부분과 끝 부분 확인\n",
    "for chunk in chunks[:5]:\n",
    "    print(f\"{chunk.page_content[:100]}...{chunk.page_content[-100:]}\")\n",
    "    print(\"=\"*100)"
   ]
  },
  {
   "cell_type": "code",
   "execution_count": 20,
   "id": "aa19c207",
   "metadata": {},
   "outputs": [],
   "source": [
    "# from langchain_chroma import Chroma\n",
    "from langchain_community.vectorstores import Chroma\n",
    "from langchain_openai import OpenAIEmbeddings\n",
    "\n",
    "# OpenAI 임베딩 모델 생성\n",
    "embeddings_openai = OpenAIEmbeddings(\n",
    "    model=\"text-embedding-3-small\",  # 사용할 모델 이름)\n",
    ")\n",
    "\n",
    "# Chroma 벡터 저장소 생성하기\n",
    "chroma_db = Chroma.from_documents(  \n",
    "    documents=chunks,\n",
    "    embedding=embeddings_openai,    # OpenAI 임베딩 사용\n",
    "    collection_name=\"labor_law\",    # 컬렉션 이름\n",
    "    persist_directory=\"./chroma_db\",\n",
    "    collection_metadata = {'hnsw:space': 'cosine'}, # l2, ip, cosine 중에서 선택 \n",
    ")"
   ]
  },
  {
   "cell_type": "code",
   "execution_count": null,
   "id": "aa705465",
   "metadata": {},
   "outputs": [],
   "source": [
    "# 문서 개수 확인\n",
    "chroma_db._collection.count()"
   ]
  },
  {
   "cell_type": "markdown",
   "id": "3368e198",
   "metadata": {},
   "source": [
    "`(2) 벡터 저장소 로드`  "
   ]
  },
  {
   "cell_type": "code",
   "execution_count": 23,
   "id": "c39e5cfb",
   "metadata": {},
   "outputs": [],
   "source": [
    "# from langchain_chroma import Chroma\n",
    "from langchain_community.vectorstores import Chroma\n",
    "\n",
    "# 저장된 벡터 저장소를 가져오기\n",
    "chroma_db = Chroma(\n",
    "    collection_name=\"labor_law\",\n",
    "    embedding_function=embeddings_openai,\n",
    "    persist_directory=\"./chroma_db\",\n",
    ")"
   ]
  },
  {
   "cell_type": "code",
   "execution_count": 24,
   "id": "05e0b822",
   "metadata": {},
   "outputs": [
    {
     "data": {
      "text/plain": [
       "95"
      ]
     },
     "execution_count": 24,
     "metadata": {},
     "output_type": "execute_result"
    }
   ],
   "source": [
    "# 문서 개수 확인\n",
    "chroma_db._collection.count()"
   ]
  },
  {
   "cell_type": "markdown",
   "id": "04aefca3",
   "metadata": {},
   "source": [
    "`(3) 문서 검색`  \n",
    "- 유사도 검색\n",
    "    - 주어진 쿼리와 가장 유사한 문서를 반환\n",
    "    -  k=5는 상위 5개의 결과를 반환하도록 지정\n",
    "    - filter를 사용하여 특정 출처의 문서만 검색 가능"
   ]
  },
  {
   "cell_type": "code",
   "execution_count": 25,
   "id": "90c36347",
   "metadata": {},
   "outputs": [
    {
     "name": "stdout",
     "output_type": "stream",
     "text": [
      "유사도 검색 결과:\n",
      "- 법제처                                                            9                                                       국가법령정보센터\n",
      "근로기준법\n",
      "[제목개정 2021. 1. 5.]\n",
      " \n",
      "제51조의2(3개월을 초과하는 탄력적 근로시간제) ① 사용자는 근로자대표와의 서면 합의에 따라 다음 각 호의 사항을\n",
      "정하면 3개월을 초과하고 6개월 이내의 단위기간을 평균하여 1주간의 근로시간이 제50조제1항의 근로시간을 초과\n",
      "하지 아니하는 범위에서 특정한 주에 제50조제1항의 근로시간을, 특정한 날에 제50조제2항의 근로시간을 초과하여\n",
      "근로하게 할 수 있다. 다만, 특정한 주의 근로시간은 52시간을, 특정한 날의 근로시간은 12시간을 초과할 수 없다.\n",
      "1. 대상 근로자의 범위\n",
      "2. 단위기간(3개월을 초과하고 6개월 이내의 일정한 기간으로 정하여야 한다)\n",
      "3. 단위기간의 주별 근로시간\n",
      "4. 그 밖에 대통령령으로 정하는 사항\n",
      "② 사용자는 제1항에 따라 근로자를 근로시킬 경우에는 근로일 종료 후 다음 근로일 개시 전까지 근로자에게 연속\n",
      "하여 11시간 이상의 휴식 시간을 주어야 한다. 다만, 천재지변 등 대통령령으로 정하는 불가피한 경우에는 근로자대 [출처: ../data/labor_law.pdf]\n",
      "====================================================================================================\n",
      "- [제목개정 2021. 5. 18.]\n",
      " \n",
      "제49조(임금의 시효) 이 법에 따른 임금채권은 3년간 행사하지 아니하면 시효로 소멸한다.\n",
      " \n",
      "       제4장 근로시간과 휴식\n",
      " \n",
      "제50조(근로시간) ① 1주 간의 근로시간은 휴게시간을 제외하고 40시간을 초과할 수 없다.\n",
      "② 1일의 근로시간은 휴게시간을 제외하고 8시간을 초과할 수 없다.\n",
      "③ 제1항 및 제2항에 따라 근로시간을 산정하는 경우 작업을 위하여 근로자가 사용자의 지휘ㆍ감독 아래에 있는 대\n",
      "기시간 등은 근로시간으로 본다.<신설 2012. 2. 1., 2020. 5. 26.>\n",
      " \n",
      "제51조(3개월 이내의 탄력적 근로시간제) ① 사용자는 취업규칙(취업규칙에 준하는 것을 포함한다)에서 정하는 바에 따\n",
      "라 2주 이내의 일정한 단위기간을 평균하여 1주 간의 근로시간이 제50조제1항의 근로시간을 초과하지 아니하는 범\n",
      "위에서 특정한 주에 제50조제1항의 근로시간을, 특정한 날에 제50조제2항의 근로시간을 초과하여 근로하게 할 수 [출처: ../data/labor_law.pdf]\n",
      "====================================================================================================\n",
      "- 통상적으로 소정근로시간을 초과하여 근로할 필요가 있는 경우에는 그 업무의 수행에 통상 필요한 시간을 근로한\n",
      "것으로 본다.\n",
      "② 제1항 단서에도 불구하고 그 업무에 관하여 근로자대표와의 서면 합의를 한 경우에는 그 합의에서 정하는 시간\n",
      "을 그 업무의 수행에 통상 필요한 시간으로 본다.\n",
      "③ 업무의 성질에 비추어 업무 수행 방법을 근로자의 재량에 위임할 필요가 있는 업무로서 대통령령으로 정하는 업\n",
      "무는 사용자가 근로자대표와 서면 합의로 정한 시간을 근로한 것으로 본다. 이 경우 그 서면 합의에는 다음 각 호의\n",
      "사항을 명시하여야 한다.\n",
      "1. 대상 업무\n",
      "2. 사용자가 업무의 수행 수단 및 시간 배분 등에 관하여 근로자에게 구체적인 지시를 하지 아니한다는 내용\n",
      "3. 근로시간의 산정은 그 서면 합의로 정하는 바에 따른다는 내용\n",
      "④ 제1항과 제3항의 시행에 필요한 사항은 대통령령으로 정한다.\n",
      " \n",
      "제59조(근로시간 및 휴게시간의 특례) ① 「통계법」 제22조제1항에 따라 통계청장이 고시하는 산업에 관한 표준의 중분 [출처: ../data/labor_law.pdf]\n",
      "====================================================================================================\n",
      "- 동안의 소정근로시간에 비하여 짧은 근로자를 말한다.\n",
      "② 제1항제6호에 따라 산출된 금액이 그 근로자의 통상임금보다 적으면 그 통상임금액을 평균임금으로 한다.\n",
      " \n",
      "제3조(근로조건의 기준) 이 법에서 정하는 근로조건은 최저기준이므로 근로 관계 당사자는 이 기준을 이유로 근로조건\n",
      "을 낮출 수 없다.\n",
      " \n",
      "제4조(근로조건의 결정) 근로조건은 근로자와 사용자가 동등한 지위에서 자유의사에 따라 결정하여야 한다.\n",
      " \n",
      "제5조(근로조건의 준수) 근로자와 사용자는 각자가 단체협약, 취업규칙과 근로계약을 지키고 성실하게 이행할 의무가\n",
      "있다.\n",
      " \n",
      "제6조(균등한 처우) 사용자는 근로자에 대하여 남녀의 성(性)을 이유로 차별적 대우를 하지 못하고, 국적ㆍ신앙 또는 사\n",
      "회적 신분을 이유로 근로조건에 대한 차별적 처우를 하지 못한다.\n",
      " \n",
      "제7조(강제 근로의 금지) 사용자는 폭행, 협박, 감금, 그 밖에 정신상 또는 신체상의 자유를 부당하게 구속하는 수단으로 [출처: ../data/labor_law.pdf]\n",
      "====================================================================================================\n",
      "- ③ 4주 동안(4주 미만으로 근로하는 경우에는 그 기간)을 평균하여 1주 동안의 소정근로시간이 15시간 미만인 근로\n",
      "자에 대하여는 제55조와 제60조를 적용하지 아니한다.<개정 2008. 3. 21.>\n",
      " \n",
      "제19조(근로조건의 위반) ① 제17조에 따라 명시된 근로조건이 사실과 다를 경우에 근로자는 근로조건 위반을 이유로\n",
      "손해의 배상을 청구할 수 있으며 즉시 근로계약을 해제할 수 있다.\n",
      "② 제1항에 따라 근로자가 손해배상을 청구할 경우에는 노동위원회에 신청할 수 있으며, 근로계약이 해제되었을 경\n",
      "우에는 사용자는 취업을 목적으로 거주를 변경하는 근로자에게 귀향 여비를 지급하여야 한다.\n",
      " \n",
      "제20조(위약 예정의 금지) 사용자는 근로계약 불이행에 대한 위약금 또는 손해배상액을 예정하는 계약을 체결하지 못\n",
      "한다.\n",
      " \n",
      "제21조(전차금 상계의 금지) 사용자는 전차금(前借金)이나 그 밖에 근로할 것을 조건으로 하는 전대(前貸)채권과 임금\n",
      "을 상계하지 못한다. [출처: ../data/labor_law.pdf]\n",
      "====================================================================================================\n"
     ]
    }
   ],
   "source": [
    "query = \"'탄력 근로에 대해서 설명해주세요\"\n",
    "results = chroma_db.similarity_search(\n",
    "    query,\n",
    "    k=5,\n",
    "    filter={\"source\": \"../data/labor_law.pdf\"}\n",
    ")\n",
    "\n",
    "print(\"유사도 검색 결과:\")\n",
    "for doc in results:\n",
    "    print(f\"- {doc.page_content} [출처: {doc.metadata['source']}]\")\n",
    "    print(\"=\" * 100)"
   ]
  },
  {
   "cell_type": "markdown",
   "id": "a7cfc931",
   "metadata": {},
   "source": [
    "- 유사도 점수가 포함된 검색\n",
    "    - 유사도 점수를 함께 반환\n",
    "    - 점수가 낮을수록 더 유사한 것을 의미 (거리 기준으로 점수가 산정되기 때문)"
   ]
  },
  {
   "cell_type": "code",
   "execution_count": 26,
   "id": "66f05840",
   "metadata": {},
   "outputs": [
    {
     "name": "stdout",
     "output_type": "stream",
     "text": [
      "점수가 포함된 유사도 검색 결과:\n",
      "\n",
      "- 점수: 0.6461\n",
      "  내용: 법제처                                                            9                                                       국가법령정보센터\n",
      "근로기준법\n",
      "[제목개정 2021. 1. 5.]\n",
      " \n",
      "제51조의2(3개월을 초과하는 탄력적 근로시간제) ① 사용자는 근로자대표와의 서면 합의에 따라 다음 각 호의 사항을\n",
      "정하면 3개월을 초과하고 6개월 이내의 단위기간을 평균하여 1주간의 근로시간이 제50조제1항의 근로시간을 초과\n",
      "하지 아니하는 범위에서 특정한 주에 제50조제1항의 근로시간을, 특정한 날에 제50조제2항의 근로시간을 초과하여\n",
      "근로하게 할 수 있다. 다만, 특정한 주의 근로시간은 52시간을, 특정한 날의 근로시간은 12시간을 초과할 수 없다.\n",
      "1. 대상 근로자의 범위\n",
      "2. 단위기간(3개월을 초과하고 6개월 이내의 일정한 기간으로 정하여야 한다)\n",
      "3. 단위기간의 주별 근로시간\n",
      "4. 그 밖에 대통령령으로 정하는 사항\n",
      "② 사용자는 제1항에 따라 근로자를 근로시킬 경우에는 근로일 종료 후 다음 근로일 개시 전까지 근로자에게 연속\n",
      "하여 11시간 이상의 휴식 시간을 주어야 한다. 다만, 천재지변 등 대통령령으로 정하는 불가피한 경우에는 근로자대\n",
      " 메타데이터: {'source': '../data/labor_law.pdf', 'page': 8, 'creationdate': '2024-10-15T14:45:34+09:00', 'producer': 'iText 2.1.7 by 1T3XT', 'creator': 'PyPDF', 'moddate': '2024-10-15T14:45:34+09:00', 'page_label': '9', 'total_pages': 20}\n",
      "====================================================================================================\n",
      "- 점수: 0.6545\n",
      "  내용: [제목개정 2021. 5. 18.]\n",
      " \n",
      "제49조(임금의 시효) 이 법에 따른 임금채권은 3년간 행사하지 아니하면 시효로 소멸한다.\n",
      " \n",
      "       제4장 근로시간과 휴식\n",
      " \n",
      "제50조(근로시간) ① 1주 간의 근로시간은 휴게시간을 제외하고 40시간을 초과할 수 없다.\n",
      "② 1일의 근로시간은 휴게시간을 제외하고 8시간을 초과할 수 없다.\n",
      "③ 제1항 및 제2항에 따라 근로시간을 산정하는 경우 작업을 위하여 근로자가 사용자의 지휘ㆍ감독 아래에 있는 대\n",
      "기시간 등은 근로시간으로 본다.<신설 2012. 2. 1., 2020. 5. 26.>\n",
      " \n",
      "제51조(3개월 이내의 탄력적 근로시간제) ① 사용자는 취업규칙(취업규칙에 준하는 것을 포함한다)에서 정하는 바에 따\n",
      "라 2주 이내의 일정한 단위기간을 평균하여 1주 간의 근로시간이 제50조제1항의 근로시간을 초과하지 아니하는 범\n",
      "위에서 특정한 주에 제50조제1항의 근로시간을, 특정한 날에 제50조제2항의 근로시간을 초과하여 근로하게 할 수\n",
      " 메타데이터: {'page': 7, 'page_label': '8', 'total_pages': 20, 'moddate': '2024-10-15T14:45:34+09:00', 'source': '../data/labor_law.pdf', 'creationdate': '2024-10-15T14:45:34+09:00', 'producer': 'iText 2.1.7 by 1T3XT', 'creator': 'PyPDF'}\n",
      "====================================================================================================\n",
      "- 점수: 0.6938\n",
      "  내용: 통상적으로 소정근로시간을 초과하여 근로할 필요가 있는 경우에는 그 업무의 수행에 통상 필요한 시간을 근로한\n",
      "것으로 본다.\n",
      "② 제1항 단서에도 불구하고 그 업무에 관하여 근로자대표와의 서면 합의를 한 경우에는 그 합의에서 정하는 시간\n",
      "을 그 업무의 수행에 통상 필요한 시간으로 본다.\n",
      "③ 업무의 성질에 비추어 업무 수행 방법을 근로자의 재량에 위임할 필요가 있는 업무로서 대통령령으로 정하는 업\n",
      "무는 사용자가 근로자대표와 서면 합의로 정한 시간을 근로한 것으로 본다. 이 경우 그 서면 합의에는 다음 각 호의\n",
      "사항을 명시하여야 한다.\n",
      "1. 대상 업무\n",
      "2. 사용자가 업무의 수행 수단 및 시간 배분 등에 관하여 근로자에게 구체적인 지시를 하지 아니한다는 내용\n",
      "3. 근로시간의 산정은 그 서면 합의로 정하는 바에 따른다는 내용\n",
      "④ 제1항과 제3항의 시행에 필요한 사항은 대통령령으로 정한다.\n",
      " \n",
      "제59조(근로시간 및 휴게시간의 특례) ① 「통계법」 제22조제1항에 따라 통계청장이 고시하는 산업에 관한 표준의 중분\n",
      " 메타데이터: {'source': '../data/labor_law.pdf', 'page': 10, 'producer': 'iText 2.1.7 by 1T3XT', 'moddate': '2024-10-15T14:45:34+09:00', 'creator': 'PyPDF', 'creationdate': '2024-10-15T14:45:34+09:00', 'page_label': '11', 'total_pages': 20}\n",
      "====================================================================================================\n",
      "- 점수: 0.7020\n",
      "  내용: 동안의 소정근로시간에 비하여 짧은 근로자를 말한다.\n",
      "② 제1항제6호에 따라 산출된 금액이 그 근로자의 통상임금보다 적으면 그 통상임금액을 평균임금으로 한다.\n",
      " \n",
      "제3조(근로조건의 기준) 이 법에서 정하는 근로조건은 최저기준이므로 근로 관계 당사자는 이 기준을 이유로 근로조건\n",
      "을 낮출 수 없다.\n",
      " \n",
      "제4조(근로조건의 결정) 근로조건은 근로자와 사용자가 동등한 지위에서 자유의사에 따라 결정하여야 한다.\n",
      " \n",
      "제5조(근로조건의 준수) 근로자와 사용자는 각자가 단체협약, 취업규칙과 근로계약을 지키고 성실하게 이행할 의무가\n",
      "있다.\n",
      " \n",
      "제6조(균등한 처우) 사용자는 근로자에 대하여 남녀의 성(性)을 이유로 차별적 대우를 하지 못하고, 국적ㆍ신앙 또는 사\n",
      "회적 신분을 이유로 근로조건에 대한 차별적 처우를 하지 못한다.\n",
      " \n",
      "제7조(강제 근로의 금지) 사용자는 폭행, 협박, 감금, 그 밖에 정신상 또는 신체상의 자유를 부당하게 구속하는 수단으로\n",
      " 메타데이터: {'source': '../data/labor_law.pdf', 'creator': 'PyPDF', 'creationdate': '2024-10-15T14:45:34+09:00', 'page_label': '1', 'moddate': '2024-10-15T14:45:34+09:00', 'page': 0, 'total_pages': 20, 'producer': 'iText 2.1.7 by 1T3XT'}\n",
      "====================================================================================================\n",
      "- 점수: 0.7242\n",
      "  내용: ③ 4주 동안(4주 미만으로 근로하는 경우에는 그 기간)을 평균하여 1주 동안의 소정근로시간이 15시간 미만인 근로\n",
      "자에 대하여는 제55조와 제60조를 적용하지 아니한다.<개정 2008. 3. 21.>\n",
      " \n",
      "제19조(근로조건의 위반) ① 제17조에 따라 명시된 근로조건이 사실과 다를 경우에 근로자는 근로조건 위반을 이유로\n",
      "손해의 배상을 청구할 수 있으며 즉시 근로계약을 해제할 수 있다.\n",
      "② 제1항에 따라 근로자가 손해배상을 청구할 경우에는 노동위원회에 신청할 수 있으며, 근로계약이 해제되었을 경\n",
      "우에는 사용자는 취업을 목적으로 거주를 변경하는 근로자에게 귀향 여비를 지급하여야 한다.\n",
      " \n",
      "제20조(위약 예정의 금지) 사용자는 근로계약 불이행에 대한 위약금 또는 손해배상액을 예정하는 계약을 체결하지 못\n",
      "한다.\n",
      " \n",
      "제21조(전차금 상계의 금지) 사용자는 전차금(前借金)이나 그 밖에 근로할 것을 조건으로 하는 전대(前貸)채권과 임금\n",
      "을 상계하지 못한다.\n",
      " 메타데이터: {'total_pages': 20, 'producer': 'iText 2.1.7 by 1T3XT', 'creator': 'PyPDF', 'page': 2, 'creationdate': '2024-10-15T14:45:34+09:00', 'source': '../data/labor_law.pdf', 'page_label': '3', 'moddate': '2024-10-15T14:45:34+09:00'}\n",
      "====================================================================================================\n"
     ]
    }
   ],
   "source": [
    "query = \"'탄력 근로에 대해서 설명해주세요\"\n",
    "results = chroma_db.similarity_search_with_score(\n",
    "    query,\n",
    "    k=5,\n",
    ")\n",
    "\n",
    "print(\"점수가 포함된 유사도 검색 결과:\\n\")\n",
    "for doc, score in results:\n",
    "    print(f\"- 점수: {score:.4f}\")\n",
    "    print(f\"  내용: {doc.page_content}\")\n",
    "    print(f\" 메타데이터: {doc.metadata}\")\n",
    "    print(\"=\" * 100)"
   ]
  },
  {
   "cell_type": "markdown",
   "id": "fd1114cf",
   "metadata": {},
   "source": [
    "# 벡터 저장소 기반 RAG 검색기 (Retriever)\n",
    "\n"
   ]
  },
  {
   "cell_type": "markdown",
   "id": "5cbd1b80",
   "metadata": {},
   "source": [
    "`(1) Top K`"
   ]
  },
  {
   "cell_type": "code",
   "execution_count": 27,
   "id": "978859b4",
   "metadata": {},
   "outputs": [
    {
     "name": "stdout",
     "output_type": "stream",
     "text": [
      "쿼리: 탄력 근로에 대해서 설명해주세요\n",
      "검색 결과:\n",
      "-1-\n",
      "법제처                                                            9                                                       국가법령정보센터\n",
      "근로기준법\n",
      "[제목개정 2021. 1. 5.]\n",
      " \n",
      "제51조의2(3개월을 초과하는 탄력적 근로시간제) ① 사용자는 근로자대표와의 서면 합의에 따라 다음 각 호의 사항을\n",
      "정하면 3개월을 초과하고 6개월 이내의 단위기간을 평균하여 1주간의 근로시간이 제50조제1항의 근로시간을 초과\n",
      "하지 아니하는 범위에서 특정한 주에 제50조제1항의 근로시간을, 특정한 날에 제50조제2항의 근로시간을 초과하여\n",
      "근로하게 할 수 있다. 다만, 특정한 주의 근로시간은 52시간을, 특정한 날의 근로시간은 12시간을 초과할 수 없다.\n",
      "1. 대상 근로자의 범위\n",
      "2. 단위기간(3개월을 초과하고 6개월 이내의 일정한 기간으로 정하여야 한다)\n",
      "3. 단위기간의 주별 근로시간\n",
      "4. 그 밖에 대통령령으로 정하는 사항\n",
      "② 사용자는 제1항에 따라 근로자를 근로시킬 경우에는 근로일 종료 후 다음 근로일 개시 전까지 근로자에게 연속\n",
      "하여 11시간 이상의 휴식 시간을 주어야 한다. 다만, 천재지변 등 대통령령으로 정하는 불가피한 경우에는 근로자대\n",
      "[출처: ../data/labor_law.pdf]\n",
      "----------------------------------------------------------------------------------------------------\n",
      "-2-\n",
      "[제목개정 2021. 5. 18.]\n",
      " \n",
      "제49조(임금의 시효) 이 법에 따른 임금채권은 3년간 행사하지 아니하면 시효로 소멸한다.\n",
      " \n",
      "       제4장 근로시간과 휴식\n",
      " \n",
      "제50조(근로시간) ① 1주 간의 근로시간은 휴게시간을 제외하고 40시간을 초과할 수 없다.\n",
      "② 1일의 근로시간은 휴게시간을 제외하고 8시간을 초과할 수 없다.\n",
      "③ 제1항 및 제2항에 따라 근로시간을 산정하는 경우 작업을 위하여 근로자가 사용자의 지휘ㆍ감독 아래에 있는 대\n",
      "기시간 등은 근로시간으로 본다.<신설 2012. 2. 1., 2020. 5. 26.>\n",
      " \n",
      "제51조(3개월 이내의 탄력적 근로시간제) ① 사용자는 취업규칙(취업규칙에 준하는 것을 포함한다)에서 정하는 바에 따\n",
      "라 2주 이내의 일정한 단위기간을 평균하여 1주 간의 근로시간이 제50조제1항의 근로시간을 초과하지 아니하는 범\n",
      "위에서 특정한 주에 제50조제1항의 근로시간을, 특정한 날에 제50조제2항의 근로시간을 초과하여 근로하게 할 수\n",
      "[출처: ../data/labor_law.pdf]\n",
      "----------------------------------------------------------------------------------------------------\n"
     ]
    }
   ],
   "source": [
    "retriever = chroma_db.as_retriever(\n",
    "    search_kwargs={\"k\": 2},\n",
    ")\n",
    "\n",
    "query = \"탄력 근로에 대해서 설명해주세요\"\n",
    "retrieved_docs = retriever.invoke(query)\n",
    "\n",
    "print(f\"쿼리: {query}\")\n",
    "print(\"검색 결과:\")\n",
    "for i, doc in enumerate(retrieved_docs, 1):\n",
    "    print(f\"-{i}-\\n{doc.page_content}\\n[출처: {doc.metadata['source']}]\")\n",
    "    print(\"-\" * 100)"
   ]
  },
  {
   "cell_type": "markdown",
   "id": "e25ee428",
   "metadata": {},
   "source": [
    "`(2) 임계값 지정`\n",
    "- Similarity score threshold (기준 스코어 이상인 문서를 대상으로 추출)"
   ]
  },
  {
   "cell_type": "code",
   "execution_count": 28,
   "id": "2a8987f4",
   "metadata": {},
   "outputs": [
    {
     "name": "stdout",
     "output_type": "stream",
     "text": [
      "쿼리: 탄력 근로에 대해서 설명해주세요\n",
      "검색 결과:\n",
      "-1-\n",
      "법제처                                                            9                                                       국가법령정보센터\n",
      "근로기준법\n",
      "[제목개정 2021. 1. 5.]\n",
      " \n",
      "제51조의2(3개월을 초과하는 탄력적 근로시간제) ① 사용자는 근로자대표와의 서면 합의에 따라 다음 각 호의 사항을\n",
      "정하면 3개월을 초과하고 6개월 이내의 단위기간을 평균하여 1주간의 근로시간이 제50조제1항의 근로시간을 초과\n",
      "하지 아니하는 범위에서 특정한 주에 제50조제1항의 근로시간을, 특정한 날에 제50조제2항의 근로시간을 초과하여\n",
      "근로하게 할 수 있다. 다만, 특정한 주의 근로시간은 52시간을, 특정한 날의 근로시간은 12시간을 초과할 수 없다.\n",
      "1. 대상 근로자의 범위\n",
      "2. 단위기간(3개월을 초과하고 6개월 이내의 일정한 기간으로 정하여야 한다)\n",
      "3. 단위기간의 주별 근로시간\n",
      "4. 그 밖에 대통령령으로 정하는 사항\n",
      "② 사용자는 제1항에 따라 근로자를 근로시킬 경우에는 근로일 종료 후 다음 근로일 개시 전까지 근로자에게 연속\n",
      "하여 11시간 이상의 휴식 시간을 주어야 한다. 다만, 천재지변 등 대통령령으로 정하는 불가피한 경우에는 근로자대\n",
      "[유사도: 0.3076058645159743]\n",
      "----------------------------------------------------------------------------------------------------\n",
      "-2-\n",
      "[제목개정 2021. 5. 18.]\n",
      " \n",
      "제49조(임금의 시효) 이 법에 따른 임금채권은 3년간 행사하지 아니하면 시효로 소멸한다.\n",
      " \n",
      "       제4장 근로시간과 휴식\n",
      " \n",
      "제50조(근로시간) ① 1주 간의 근로시간은 휴게시간을 제외하고 40시간을 초과할 수 없다.\n",
      "② 1일의 근로시간은 휴게시간을 제외하고 8시간을 초과할 수 없다.\n",
      "③ 제1항 및 제2항에 따라 근로시간을 산정하는 경우 작업을 위하여 근로자가 사용자의 지휘ㆍ감독 아래에 있는 대\n",
      "기시간 등은 근로시간으로 본다.<신설 2012. 2. 1., 2020. 5. 26.>\n",
      " \n",
      "제51조(3개월 이내의 탄력적 근로시간제) ① 사용자는 취업규칙(취업규칙에 준하는 것을 포함한다)에서 정하는 바에 따\n",
      "라 2주 이내의 일정한 단위기간을 평균하여 1주 간의 근로시간이 제50조제1항의 근로시간을 초과하지 아니하는 범\n",
      "위에서 특정한 주에 제50조제1항의 근로시간을, 특정한 날에 제50조제2항의 근로시간을 초과하여 근로하게 할 수\n",
      "[유사도: 0.3056115684001692]\n",
      "----------------------------------------------------------------------------------------------------\n"
     ]
    }
   ],
   "source": [
    "from langchain_community.utils.math import cosine_similarity\n",
    "\n",
    "retriever = chroma_db.as_retriever(\n",
    "    search_type='similarity_score_threshold',       # cosine 유사도\n",
    "    search_kwargs={'score_threshold': 0.3, 'k':5},  # 0.3 이상인 문서를 추출\n",
    ")\n",
    "\n",
    "query = \"탄력 근로에 대해서 설명해주세요\"\n",
    "\n",
    "# 쿼리와 유사한 문서 검색\n",
    "retrieved_docs = retriever.invoke(query)\n",
    "\n",
    "print(f\"쿼리: {query}\")\n",
    "print(\"검색 결과:\")\n",
    "for i, doc in enumerate(retrieved_docs, 1):\n",
    "    score = cosine_similarity(\n",
    "        [embeddings_openai.embed_query(query)], \n",
    "        [embeddings_openai.embed_query(doc.page_content)]\n",
    "        )[0][0]\n",
    "    print(f\"-{i}-\\n{doc.page_content}\\n[유사도: {score}]\")\n",
    "    print(\"-\" * 100)"
   ]
  },
  {
   "cell_type": "markdown",
   "id": "5f6d4655",
   "metadata": {},
   "source": [
    "`(3) MMR(Maximal Marginal Relevance) 검색`"
   ]
  },
  {
   "cell_type": "code",
   "execution_count": null,
   "id": "730ccc73",
   "metadata": {},
   "outputs": [],
   "source": [
    "# MMR - 다양성 고려 (lambda_mult 작을수록 더 다양하게 추출)\n",
    "retriever = chroma_db.as_retriever(\n",
    "    search_type='mmr',\n",
    "    search_kwargs={\n",
    "        'k': 3,                 # 검색할 문서의 수\n",
    "        'fetch_k': 8,           # mmr 알고리즘에 전달할 문서의 수 (fetch_k > k)\n",
    "        'lambda_mult': 0.5,     # 다양성을 고려하는 정도 (1은 최소 다양성, 0은 최대 다양성을 의미. 기본값은 0.5)\n",
    "        },\n",
    ")\n",
    "\n",
    "\n",
    "query = \"탄력 근로에 대해서 설명해주세요\"\n",
    "\n",
    "# 쿼리와 유사한 문서 검색\n",
    "retrieved_docs = retriever.invoke(query)\n",
    "\n",
    "print(f\"쿼리: {query}\")\n",
    "print(\"검색 결과:\")\n",
    "for i, doc in enumerate(retrieved_docs, 1):\n",
    "    score = cosine_similarity(\n",
    "        [embeddings_openai.embed_query(query)], \n",
    "        [embeddings_openai.embed_query(doc.page_content)]\n",
    "        )[0][0]\n",
    "    print(f\"-{i}-\\n{doc.page_content}\\n[유사도: {score}]\")\n",
    "    print(\"-\" * 100)"
   ]
  },
  {
   "cell_type": "markdown",
   "id": "3cc95823",
   "metadata": {},
   "source": [
    "# Naive RAG 구현 "
   ]
  },
  {
   "cell_type": "markdown",
   "id": "5d70691e",
   "metadata": {},
   "source": [
    "`(1) 벡터 저장소 로드`\n",
    "- `Chroma` 벡터 저장소를 로드"
   ]
  },
  {
   "cell_type": "code",
   "execution_count": null,
   "id": "3b684474",
   "metadata": {},
   "outputs": [],
   "source": [
    "from langchain_chroma import Chroma\n",
    "from langchain_openai import OpenAIEmbeddings\n",
    "\n",
    "# OpenAI 임베딩 모델 생성\n",
    "embeddings_openai = OpenAIEmbeddings(\n",
    "    model=\"text-embedding-3-small\",  # 사용할 모델 이름\n",
    "    )\n",
    "\n",
    "# 저장된 벡터 저장소를 가져오기\n",
    "chroma_db = Chroma(\n",
    "    collection_name=\"labor_law\",\n",
    "    embedding_function=embeddings_openai,\n",
    "    persist_directory=\"./chroma_db\",\n",
    ")\n",
    "\n",
    "# 문서 개수 확인\n",
    "print(f\"저장된 문서 수: {chroma_db._collection.count()}\")"
   ]
  },
  {
   "cell_type": "markdown",
   "id": "428b2f7d",
   "metadata": {},
   "source": [
    "`(2) 검색기(Retriever) 초기화`\n",
    "\n",
    "- mmr 검색을 사용하는 Retriever 사용\n",
    "- 다양성을 높이는 설정을 사용"
   ]
  },
  {
   "cell_type": "code",
   "execution_count": null,
   "id": "ad3b280f",
   "metadata": {},
   "outputs": [],
   "source": [
    "# mmr 검색기 생성\n",
    "retriever = chroma_db.as_retriever(\n",
    "    search_type='mmr',\n",
    "    search_kwargs={\n",
    "        'k': 5,                  # 검색할 문서의 수\n",
    "        'fetch_k': 10,           # mmr 알고리즘에 전달할 문서의 수 (fetch_k > k)\n",
    "        'lambda_mult': 0.3,      # 다양성을 고려하는 정도 (1은 최소 다양성, 0은 최대 다양성을 의미. 기본값은 0.5)\n",
    "        },\n",
    ")"
   ]
  },
  {
   "cell_type": "code",
   "execution_count": null,
   "id": "36743877",
   "metadata": {},
   "outputs": [],
   "source": [
    "# 검색 테스트 \n",
    "query = \"탄력 근로에 대해서 설명해주세요\"\n",
    "\n",
    "# 쿼리와 유사한 문서 검색\n",
    "retrieved_docs = retriever.invoke(query)\n",
    "\n",
    "print(f\"쿼리: {query}\")\n",
    "print(\"검색 결과:\")\n",
    "for i, doc in enumerate(retrieved_docs, 1):\n",
    "    print(f\"-{i}-\\n{doc.page_content}\\n[출처: {doc.metadata['source']}]\")\n",
    "    print(\"-\" * 100)"
   ]
  },
  {
   "cell_type": "markdown",
   "id": "3024d5d9",
   "metadata": {},
   "source": [
    "`(3) RAG 프롬프트 구성`\n",
    "\n",
    "- 작성 기준: \n",
    "    - LangChain의 ChatPromptTemplate 클래스 사용\n",
    "    - 변수 처리는 {context}, {question} 형식 사용\n",
    "    - 답변은 한글로 출력되도록 프롬프트 작성\n",
    "    \n",
    "- 아래 템플릿 코드를 기반으로 다음 내용을 참고하여 작성합니다. \n",
    "\n",
    "    1. 프롬프트 구성요소:\n",
    "        - 작업 지침\n",
    "        - 컨텍스트 영역\n",
    "        - 질문 영역\n",
    "        - 답변 형식 가이드\n",
    "\n",
    "    2. 작업 지침:\n",
    "        - 컨텍스트 기반 답변 원칙\n",
    "        - 외부 지식 사용 제한\n",
    "        - 불확실성 처리 방법\n",
    "        - 답변 불가능한 경우의 처리 방법\n",
    "\n",
    "    3. 답변 형식:\n",
    "        - 핵심 답변 섹션\n",
    "        - 근거 제시 섹션\n",
    "        - 추가 설명 섹션 (필요시)\n",
    "\n",
    "    4. 제약사항 반영:\n",
    "        - 답변은 사실에 기반해야 함\n",
    "        - 추측이나 가정을 최소화해야 함\n",
    "        - 명확한 근거 제시가 필요함\n",
    "        - 구조화된 형태로 작성되어야 함"
   ]
  },
  {
   "cell_type": "code",
   "execution_count": null,
   "id": "f14c1634",
   "metadata": {},
   "outputs": [],
   "source": [
    "# Prompt 템플릿 (기본 예시)\n",
    "from langchain_core.prompts import ChatPromptTemplate\n",
    "\n",
    "template = \"\"\"Answer the question based only on the following context.\n",
    "\n",
    "[Context]\n",
    "{context}\n",
    "\n",
    "[Question] \n",
    "{question}\n",
    "\n",
    "[Answer]\n",
    "\"\"\"\n",
    "\n",
    "prompt = ChatPromptTemplate.from_template(template)\n",
    "\n",
    "# 템플릿 출력\n",
    "prompt.pretty_print()"
   ]
  },
  {
   "cell_type": "code",
   "execution_count": null,
   "id": "367b455b",
   "metadata": {},
   "outputs": [],
   "source": [
    "# Prompt 템플릿 (커스텀 예시)\n",
    "from langchain_core.prompts import ChatPromptTemplate\n",
    "\n",
    "template = \"\"\"주어진 컨텍스트를 기반으로 질문에 답변하시오.\n",
    "\n",
    "[지침]\n",
    "- 컨텍스트에 있는 정보만을 사용하여 답변할 것\n",
    "- 외부 지식이나 정보를 사용하지 말 것\n",
    "- 컨텍스트에서 답을 찾을 수 없는 경우 \"주어진 정보만으로는 답변하기 어렵습니다.\"라고 응답할 것\n",
    "- 불확실한 경우 명확히 그 불확실성을 표현할 것\n",
    "- 답변은 논리적이고 구조화된 형태로 제공할 것\n",
    "- 답변은 한국어를 사용할 것 \n",
    "\n",
    "[컨텍스트]\n",
    "{context}\n",
    "\n",
    "[질문]\n",
    "{question}\n",
    "\n",
    "[답변 형식]\n",
    "1. 핵심 답변: (질문에 대한 직접적인 답변)\n",
    "2. 근거: (컨텍스트에서 발견된 관련 정보)\n",
    "3. 추가 설명: (필요한 경우 부연 설명 제공)\n",
    "\n",
    "[답변]\n",
    "\"\"\"\n",
    "\n",
    "prompt = ChatPromptTemplate.from_template(template)\n",
    "\n",
    "# 템플릿 출력\n",
    "prompt.pretty_print()"
   ]
  },
  {
   "cell_type": "markdown",
   "id": "ad0f5cf5",
   "metadata": {},
   "source": [
    "`(4) RAG 체인 구성`\n",
    "- LangChain의 LCEL 문법을 사용\n",
    "- 검색 결과를 프롬프트의 'context'로 전달하고,\n",
    "- 사용자가 입력한 질문을 그래도 프롬프트의 'question'에 전달\n",
    "- LLM 설정:\n",
    "    - ChatOpenAI 사용 ('gpt-4.1-mini' 모델)\n",
    "    - temperature: 답변의 일관성을 가져가는 설정값을 사용 \n",
    "    - 기타 필요한 설정 \n",
    "- 출력 파서: 문자열 부분만 출력되도록 구성 "
   ]
  },
  {
   "cell_type": "code",
   "execution_count": null,
   "id": "2e4121f9",
   "metadata": {},
   "outputs": [],
   "source": [
    "from langchain_core.runnables import RunnablePassthrough, RunnableParallel\n",
    "from langchain_core.output_parsers import StrOutputParser\n",
    "from langchain_openai import ChatOpenAI\n",
    "\n",
    "# LLM 설정\n",
    "llm = ChatOpenAI(\n",
    "    model=\"gpt-4.1-mini\",\n",
    "    temperature=0.7,\n",
    "    top_p=0.9,\n",
    ")\n",
    "\n",
    "# 문서 포맷팅\n",
    "def format_docs(docs):\n",
    "    return \"\\n\\n\".join([f\"{doc.page_content}\" for doc in docs])\n",
    "\n",
    "# RAG 체인 생성\n",
    "rag_chain = (\n",
    "    RunnableParallel(\n",
    "        {\n",
    "            \"context\": retriever | format_docs, \n",
    "            \"question\": RunnablePassthrough()\n",
    "        }\n",
    "    )\n",
    "    | prompt\n",
    "    | llm\n",
    "    | StrOutputParser()\n",
    ")\n",
    "\n",
    "# 체인 실행\n",
    "query = \"탄력 근로에 대해서 설명해주세요\"\n",
    "output = rag_chain.invoke(query)\n",
    "\n",
    "print(f\"쿼리: {query}\")\n",
    "print(\"답변:\")\n",
    "print(output)"
   ]
  },
  {
   "cell_type": "markdown",
   "id": "a614b56a",
   "metadata": {},
   "source": [
    "![LangServe Screenshot](https://raw.githubusercontent.com/tsdata/image_files/main/202505/rag_screenshot_0001.png)"
   ]
  },
  {
   "cell_type": "markdown",
   "id": "4bca2de1",
   "metadata": {},
   "source": [
    "`(5) LangServe 서버 구성`\n",
    "- app/rag.py 파일을 생성하여 RAG 체인과 관련된 코드를 작성함.\n",
    "\n",
    "    ```python\n",
    "    # app/rag.py\n",
    "    from dotenv import load_dotenv\n",
    "\n",
    "    from langchain_core.runnables import RunnablePassthrough\n",
    "    from langchain_core.output_parsers import StrOutputParser\n",
    "    from langchain_openai import ChatOpenAI, OpenAIEmbeddings\n",
    "    from langchain_chroma import Chroma\n",
    "    from langchain_core.prompts import ChatPromptTemplate\n",
    "\n",
    "    # 환경변수 로드\n",
    "    load_dotenv()\n",
    "\n",
    "\n",
    "    ######################\n",
    "    #  RAG 체인 구성\n",
    "    ######################\n",
    "\n",
    "    # OpenAI 임베딩 모델 생성\n",
    "    embeddings_openai = OpenAIEmbeddings(\n",
    "        model=\"text-embedding-3-small\",  # 사용할 모델 이름\n",
    "        )\n",
    "\n",
    "    # 저장된 벡터 저장소를 가져오기\n",
    "    chroma_db = Chroma(\n",
    "        collection_name=\"labor_law\",\n",
    "        embedding_function=embeddings_openai,\n",
    "        persist_directory=\"./chroma_db\",\n",
    "    )\n",
    "\n",
    "    print(\"Chroma DB loaded\")\n",
    "    print(chroma_db._collection.count())  # 벡터 저장소에 있는 문서 수 출력\n",
    "\n",
    "    # 검색기 초기화å\n",
    "    retriever = chroma_db.as_retriever(\n",
    "        search_type='mmr',\n",
    "        search_kwargs={\n",
    "            'k': 5,                  # 검색할 문서의 수\n",
    "            'fetch_k': 10,           # mmr 알고리즘에 전달할 문서의 수 (fetch_k > k)\n",
    "            'lambda_mult': 0.3,      # 다양성을 고려하는 정도 (1은 최소 다양성, 0은 최대 다양성을 의미. 기본값은 0.5)\n",
    "            },\n",
    "    )\n",
    "\n",
    "    # Prompt 템플릿 생성\n",
    "    template = \"\"\"주어진 컨텍스트를 기반으로 질문에 답변하시오.\n",
    "\n",
    "    [지침]\n",
    "    - 컨텍스트에 있는 정보만을 사용하여 답변할 것\n",
    "    - 외부 지식이나 정보를 사용하지 말 것\n",
    "    - 컨텍스트에서 답을 찾을 수 없는 경우 \"주어진 정보만으로는 답변하기 어렵습니다.\"라고 응답할 것\n",
    "    - 불확실한 경우 명확히 그 불확실성을 표현할 것\n",
    "    - 답변은 논리적이고 구조화된 형태로 제공할 것\n",
    "    - 답변은 한국어를 사용할 것 \n",
    "\n",
    "    [컨텍스트]\n",
    "    {context}\n",
    "\n",
    "    [질문]\n",
    "    {question}\n",
    "\n",
    "    [답변 형식]\n",
    "    1. 핵심 답변: (질문에 대한 직접적인 답변)\n",
    "    2. 근거: (컨텍스트에서 발견된 관련 정보)\n",
    "    3. 추가 설명: (필요한 경우 부연 설명 제공)\n",
    "\n",
    "    [답변]\n",
    "    \"\"\"\n",
    "\n",
    "    prompt = ChatPromptTemplate.from_template(template)\n",
    "\n",
    "    # LLM 설정\n",
    "    llm = ChatOpenAI(\n",
    "        model=\"gpt-4.1-mini\",\n",
    "        temperature=0.7,\n",
    "        top_p=0.9,\n",
    "    )\n",
    "\n",
    "    # 문서 포맷팅\n",
    "    def format_docs(docs):\n",
    "        return \"\\n\\n\".join([f\"{doc.page_content}\" for doc in docs])\n",
    "\n",
    "    # RAG 체인 생성\n",
    "\n",
    "    rag_chain = (\n",
    "        {\"context\": retriever | format_docs, \"question\": RunnablePassthrough()}\n",
    "        | prompt\n",
    "        | llm\n",
    "        | StrOutputParser()\n",
    "    )\n",
    "\n",
    "    ```\n",
    "\n",
    "\n",
    "- server.py 파일에 새로운 엔드포인트를 추가하여 RAG 체인을 호출하도록 설정함.\n",
    "\n",
    "    ```python\n",
    "    # app/server.py\n",
    "    from fastapi import FastAPI\n",
    "    from dotenv import load_dotenv\n",
    "    from app.rag import rag_chain\n",
    "    from langchain_openai import ChatOpenAI\n",
    "    from langserve import add_routes\n",
    "\n",
    "    # 환경변수 로드\n",
    "    load_dotenv()\n",
    "\n",
    "    # FastAPI 서버를 설정\n",
    "    app = FastAPI(\n",
    "        title=\"LangChain Server\",\n",
    "        version=\"1.0\",\n",
    "        description=\"Spin up a simple api server using Langchain's Runnable interfaces\",\n",
    "    )\n",
    "\n",
    "    # 라우팅 설정\n",
    "    add_routes(\n",
    "        app,\n",
    "        ChatOpenAI(model=\"gpt-4.1-mini\"),\n",
    "        path=\"/openai\",   # OpenAI 모델에 대한 경로\n",
    "    )\n",
    "\n",
    "    add_routes(\n",
    "        app,\n",
    "        rag_chain,\n",
    "        path=\"/rag\",  # RAG 체인에 대한 경로\n",
    "    )\n",
    "\n",
    "    # FastAPI 서버 실행\n",
    "    if __name__ == \"__main__\":\n",
    "        import uvicorn\n",
    "\n",
    "        uvicorn.run(app, host=\"localhost\", port=8000)\n",
    "    ```"
   ]
  },
  {
   "cell_type": "markdown",
   "id": "266f4f28",
   "metadata": {},
   "source": [
    "![LangServe Screenshot](https://raw.githubusercontent.com/tsdata/image_files/main/202505/rag_screenshot_0002.png)"
   ]
  }
 ],
 "metadata": {
  "kernelspec": {
   "display_name": ".venv",
   "language": "python",
   "name": "python3"
  },
  "language_info": {
   "codemirror_mode": {
    "name": "ipython",
    "version": 3
   },
   "file_extension": ".py",
   "mimetype": "text/x-python",
   "name": "python",
   "nbconvert_exporter": "python",
   "pygments_lexer": "ipython3",
   "version": "3.9.6"
  }
 },
 "nbformat": 4,
 "nbformat_minor": 5
}
